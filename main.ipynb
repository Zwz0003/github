{
  "nbformat": 4,
  "nbformat_minor": 0,
  "metadata": {
    "colab": {
      "name": "main.ipynb",
      "provenance": [],
      "collapsed_sections": [],
      "mount_file_id": "1TaBpQEENSHJYCIvrPLuvkrRhquUHYVNC",
      "authorship_tag": "ABX9TyPVOsCDlHoZiRMD1ycUKp+9",
      "include_colab_link": true
    },
    "kernelspec": {
      "name": "python3",
      "display_name": "Python 3"
    },
    "language_info": {
      "name": "python"
    }
  },
  "cells": [
    {
      "cell_type": "markdown",
      "metadata": {
        "id": "view-in-github",
        "colab_type": "text"
      },
      "source": [
        "<a href=\"https://colab.research.google.com/github/Zwz0003/github/blob/main/main.ipynb\" target=\"_parent\"><img src=\"https://colab.research.google.com/assets/colab-badge.svg\" alt=\"Open In Colab\"/></a>"
      ]
    },
    {
      "cell_type": "markdown",
      "source": [
        "环境配置——谷歌云盘载入"
      ],
      "metadata": {
        "id": "UsjgPFo29oWv"
      }
    },
    {
      "cell_type": "code",
      "execution_count": null,
      "metadata": {
        "colab": {
          "base_uri": "https://localhost:8080/"
        },
        "id": "beVCrOqwLoAK",
        "outputId": "e10b315e-1457-45d4-dcba-e7285c1aeeac"
      },
      "outputs": [
        {
          "output_type": "stream",
          "name": "stdout",
          "text": [
            "Drive already mounted at /content/drive; to attempt to forcibly remount, call drive.mount(\"/content/drive\", force_remount=True).\n"
          ]
        }
      ],
      "source": [
        "import sys\n",
        "from google.colab import drive\n",
        "drive.mount('/content/drive')\n",
        "sys.path.append('/content/drive/My Drive/Graduationproject')\n",
        "\n"
      ]
    },
    {
      "cell_type": "markdown",
      "source": [
        "环境配置——GEE"
      ],
      "metadata": {
        "id": "GMdJflTW92Yg"
      }
    },
    {
      "cell_type": "code",
      "source": [
        "!pip install earthengine-api"
      ],
      "metadata": {
        "colab": {
          "base_uri": "https://localhost:8080/"
        },
        "id": "Y3iyUT5a97b0",
        "outputId": "8146cdfd-1b50-4a25-e071-26e9aa6d69ca"
      },
      "execution_count": null,
      "outputs": [
        {
          "output_type": "stream",
          "name": "stdout",
          "text": [
            "Looking in indexes: https://pypi.org/simple, https://us-python.pkg.dev/colab-wheels/public/simple/\n",
            "Requirement already satisfied: earthengine-api in /usr/local/lib/python3.7/dist-packages (0.1.317)\n",
            "Requirement already satisfied: httplib2shim in /usr/local/lib/python3.7/dist-packages (from earthengine-api) (0.0.3)\n",
            "Requirement already satisfied: httplib2<1dev,>=0.9.2 in /usr/local/lib/python3.7/dist-packages (from earthengine-api) (0.17.4)\n",
            "Requirement already satisfied: google-auth>=1.4.1 in /usr/local/lib/python3.7/dist-packages (from earthengine-api) (1.35.0)\n",
            "Requirement already satisfied: six in /usr/local/lib/python3.7/dist-packages (from earthengine-api) (1.15.0)\n",
            "Requirement already satisfied: google-auth-httplib2>=0.0.3 in /usr/local/lib/python3.7/dist-packages (from earthengine-api) (0.0.4)\n",
            "Requirement already satisfied: google-api-python-client<2,>=1.12.1 in /usr/local/lib/python3.7/dist-packages (from earthengine-api) (1.12.11)\n",
            "Requirement already satisfied: future in /usr/local/lib/python3.7/dist-packages (from earthengine-api) (0.16.0)\n",
            "Requirement already satisfied: google-cloud-storage in /usr/local/lib/python3.7/dist-packages (from earthengine-api) (1.18.1)\n",
            "Requirement already satisfied: uritemplate<4dev,>=3.0.0 in /usr/local/lib/python3.7/dist-packages (from google-api-python-client<2,>=1.12.1->earthengine-api) (3.0.1)\n",
            "Requirement already satisfied: google-api-core<3dev,>=1.21.0 in /usr/local/lib/python3.7/dist-packages (from google-api-python-client<2,>=1.12.1->earthengine-api) (1.31.6)\n",
            "Requirement already satisfied: requests<3.0.0dev,>=2.18.0 in /usr/local/lib/python3.7/dist-packages (from google-api-core<3dev,>=1.21.0->google-api-python-client<2,>=1.12.1->earthengine-api) (2.23.0)\n",
            "Requirement already satisfied: setuptools>=40.3.0 in /usr/local/lib/python3.7/dist-packages (from google-api-core<3dev,>=1.21.0->google-api-python-client<2,>=1.12.1->earthengine-api) (57.4.0)\n",
            "Requirement already satisfied: pytz in /usr/local/lib/python3.7/dist-packages (from google-api-core<3dev,>=1.21.0->google-api-python-client<2,>=1.12.1->earthengine-api) (2022.1)\n",
            "Requirement already satisfied: packaging>=14.3 in /usr/local/lib/python3.7/dist-packages (from google-api-core<3dev,>=1.21.0->google-api-python-client<2,>=1.12.1->earthengine-api) (21.3)\n",
            "Requirement already satisfied: protobuf<4.0.0dev,>=3.12.0 in /usr/local/lib/python3.7/dist-packages (from google-api-core<3dev,>=1.21.0->google-api-python-client<2,>=1.12.1->earthengine-api) (3.17.3)\n",
            "Requirement already satisfied: googleapis-common-protos<2.0dev,>=1.6.0 in /usr/local/lib/python3.7/dist-packages (from google-api-core<3dev,>=1.21.0->google-api-python-client<2,>=1.12.1->earthengine-api) (1.56.4)\n",
            "Requirement already satisfied: rsa<5,>=3.1.4 in /usr/local/lib/python3.7/dist-packages (from google-auth>=1.4.1->earthengine-api) (4.9)\n",
            "Requirement already satisfied: pyasn1-modules>=0.2.1 in /usr/local/lib/python3.7/dist-packages (from google-auth>=1.4.1->earthengine-api) (0.2.8)\n",
            "Requirement already satisfied: cachetools<5.0,>=2.0.0 in /usr/local/lib/python3.7/dist-packages (from google-auth>=1.4.1->earthengine-api) (4.2.4)\n",
            "Requirement already satisfied: pyparsing!=3.0.5,>=2.0.2 in /usr/local/lib/python3.7/dist-packages (from packaging>=14.3->google-api-core<3dev,>=1.21.0->google-api-python-client<2,>=1.12.1->earthengine-api) (3.0.9)\n",
            "Requirement already satisfied: pyasn1<0.5.0,>=0.4.6 in /usr/local/lib/python3.7/dist-packages (from pyasn1-modules>=0.2.1->google-auth>=1.4.1->earthengine-api) (0.4.8)\n",
            "Requirement already satisfied: urllib3!=1.25.0,!=1.25.1,<1.26,>=1.21.1 in /usr/local/lib/python3.7/dist-packages (from requests<3.0.0dev,>=2.18.0->google-api-core<3dev,>=1.21.0->google-api-python-client<2,>=1.12.1->earthengine-api) (1.24.3)\n",
            "Requirement already satisfied: chardet<4,>=3.0.2 in /usr/local/lib/python3.7/dist-packages (from requests<3.0.0dev,>=2.18.0->google-api-core<3dev,>=1.21.0->google-api-python-client<2,>=1.12.1->earthengine-api) (3.0.4)\n",
            "Requirement already satisfied: certifi>=2017.4.17 in /usr/local/lib/python3.7/dist-packages (from requests<3.0.0dev,>=2.18.0->google-api-core<3dev,>=1.21.0->google-api-python-client<2,>=1.12.1->earthengine-api) (2022.6.15)\n",
            "Requirement already satisfied: idna<3,>=2.5 in /usr/local/lib/python3.7/dist-packages (from requests<3.0.0dev,>=2.18.0->google-api-core<3dev,>=1.21.0->google-api-python-client<2,>=1.12.1->earthengine-api) (2.10)\n",
            "Requirement already satisfied: google-resumable-media<0.5.0dev,>=0.3.1 in /usr/local/lib/python3.7/dist-packages (from google-cloud-storage->earthengine-api) (0.4.1)\n",
            "Requirement already satisfied: google-cloud-core<2.0dev,>=1.0.0 in /usr/local/lib/python3.7/dist-packages (from google-cloud-storage->earthengine-api) (1.0.3)\n"
          ]
        }
      ]
    },
    {
      "cell_type": "markdown",
      "source": [
        "授权1"
      ],
      "metadata": {
        "id": "kE4NsPuinHxl"
      }
    },
    {
      "cell_type": "code",
      "source": [
        "!earthengine authenticate --quiet"
      ],
      "metadata": {
        "colab": {
          "base_uri": "https://localhost:8080/"
        },
        "id": "EvCN3TN09-6f",
        "outputId": "43d67061-00c8-4916-8bec-946adf89a6d5"
      },
      "execution_count": null,
      "outputs": [
        {
          "output_type": "stream",
          "name": "stdout",
          "text": [
            "Paste the following address into a web browser:\n",
            "\n",
            "    https://code.earthengine.google.com/client-auth?scopes=https%3A//www.googleapis.com/auth/earthengine%20https%3A//www.googleapis.com/auth/devstorage.full_control&request_id=SW4KfcV1CVzBFLfXkvVSNP84DZGXdY8okTA5Sw-Zj3U&tc=o2AM06ryAtOq9h-ecavtZvjIEPzIH8HYw4tEF6lA6kw&cc=66MQAnqQWmS9HCwMsDiWJ2BdqAYXWNaQ5gEt-sCZYw8\n",
            "\n",
            "On the web page, please authorize access to your Earth Engine account and copy the authentication code. Next authenticate with the following command:\n",
            "\n",
            "    earthengine authenticate --code-verifier=SW4KfcV1CVzBFLfXkvVSNP84DZGXdY8okTA5Sw-Zj3U:QO70Pye1b5goZKFNV2ubYZeLKM4BWatk9PRYJ8IdnYw:KAyV_qOeKnVJk2DUswlumKa5ssFnnMfbuATJnZM1zTQ --authorization-code=PLACE_AUTH_CODE_HERE\n",
            "\n",
            "Enter verification code: 4/1AdQt8qjv7UPpHWgULXswMLsgdHZqA8hDJuHVxp4Hb16JJqaZ8Cw5Y0o4Tvg\n",
            "\n",
            "Successfully saved authorization token.\n"
          ]
        }
      ]
    },
    {
      "cell_type": "markdown",
      "source": [
        "环境配置——其他必备库"
      ],
      "metadata": {
        "id": "AbwOz8WA-G74"
      }
    },
    {
      "cell_type": "code",
      "source": [
        "!pip install pandas\n",
        "!pip install ipygee"
      ],
      "metadata": {
        "colab": {
          "base_uri": "https://localhost:8080/"
        },
        "id": "baaCXSHg-MS2",
        "outputId": "06be83a4-3fe0-4e5d-ae9f-f88eb7bdd4fe"
      },
      "execution_count": null,
      "outputs": [
        {
          "output_type": "stream",
          "name": "stdout",
          "text": [
            "Looking in indexes: https://pypi.org/simple, https://us-python.pkg.dev/colab-wheels/public/simple/\n",
            "Requirement already satisfied: pandas in /usr/local/lib/python3.7/dist-packages (1.3.5)\n",
            "Requirement already satisfied: pytz>=2017.3 in /usr/local/lib/python3.7/dist-packages (from pandas) (2022.1)\n",
            "Requirement already satisfied: python-dateutil>=2.7.3 in /usr/local/lib/python3.7/dist-packages (from pandas) (2.8.2)\n",
            "Requirement already satisfied: numpy>=1.17.3 in /usr/local/lib/python3.7/dist-packages (from pandas) (1.21.6)\n",
            "Requirement already satisfied: six>=1.5 in /usr/local/lib/python3.7/dist-packages (from python-dateutil>=2.7.3->pandas) (1.15.0)\n",
            "Looking in indexes: https://pypi.org/simple, https://us-python.pkg.dev/colab-wheels/public/simple/\n",
            "Collecting ipygee\n",
            "  Downloading ipygee-0.0.17.tar.gz (36 kB)\n",
            "Collecting ipyleaflet>=0.10.2\n",
            "  Downloading ipyleaflet-0.17.0-py2.py3-none-any.whl (3.3 MB)\n",
            "\u001b[K     |████████████████████████████████| 3.3 MB 8.3 MB/s \n",
            "\u001b[?25hCollecting pygal\n",
            "  Downloading pygal-3.0.0-py2.py3-none-any.whl (129 kB)\n",
            "\u001b[K     |████████████████████████████████| 129 kB 60.7 MB/s \n",
            "\u001b[?25hRequirement already satisfied: pandas in /usr/local/lib/python3.7/dist-packages (from ipygee) (1.3.5)\n",
            "Collecting geetools\n",
            "  Downloading geetools-0.6.14.tar.gz (74 kB)\n",
            "\u001b[K     |████████████████████████████████| 74 kB 2.9 MB/s \n",
            "\u001b[?25hCollecting xyzservices>=2021.8.1\n",
            "  Downloading xyzservices-2022.6.0-py3-none-any.whl (36 kB)\n",
            "Collecting traittypes<3,>=0.2.1\n",
            "  Downloading traittypes-0.2.1-py2.py3-none-any.whl (8.6 kB)\n",
            "Requirement already satisfied: ipywidgets<8,>=7.6.0 in /usr/local/lib/python3.7/dist-packages (from ipyleaflet>=0.10.2->ipygee) (7.7.1)\n",
            "Requirement already satisfied: ipython-genutils~=0.2.0 in /usr/local/lib/python3.7/dist-packages (from ipywidgets<8,>=7.6.0->ipyleaflet>=0.10.2->ipygee) (0.2.0)\n",
            "Requirement already satisfied: jupyterlab-widgets>=1.0.0 in /usr/local/lib/python3.7/dist-packages (from ipywidgets<8,>=7.6.0->ipyleaflet>=0.10.2->ipygee) (1.1.1)\n",
            "Requirement already satisfied: traitlets>=4.3.1 in /usr/local/lib/python3.7/dist-packages (from ipywidgets<8,>=7.6.0->ipyleaflet>=0.10.2->ipygee) (5.1.1)\n",
            "Requirement already satisfied: ipykernel>=4.5.1 in /usr/local/lib/python3.7/dist-packages (from ipywidgets<8,>=7.6.0->ipyleaflet>=0.10.2->ipygee) (4.10.1)\n",
            "Requirement already satisfied: widgetsnbextension~=3.6.0 in /usr/local/lib/python3.7/dist-packages (from ipywidgets<8,>=7.6.0->ipyleaflet>=0.10.2->ipygee) (3.6.1)\n",
            "Requirement already satisfied: ipython>=4.0.0 in /usr/local/lib/python3.7/dist-packages (from ipywidgets<8,>=7.6.0->ipyleaflet>=0.10.2->ipygee) (5.5.0)\n",
            "Requirement already satisfied: tornado>=4.0 in /usr/local/lib/python3.7/dist-packages (from ipykernel>=4.5.1->ipywidgets<8,>=7.6.0->ipyleaflet>=0.10.2->ipygee) (5.1.1)\n",
            "Requirement already satisfied: jupyter-client in /usr/local/lib/python3.7/dist-packages (from ipykernel>=4.5.1->ipywidgets<8,>=7.6.0->ipyleaflet>=0.10.2->ipygee) (5.3.5)\n",
            "Requirement already satisfied: pygments in /usr/local/lib/python3.7/dist-packages (from ipython>=4.0.0->ipywidgets<8,>=7.6.0->ipyleaflet>=0.10.2->ipygee) (2.6.1)\n",
            "Requirement already satisfied: pexpect in /usr/local/lib/python3.7/dist-packages (from ipython>=4.0.0->ipywidgets<8,>=7.6.0->ipyleaflet>=0.10.2->ipygee) (4.8.0)\n",
            "Requirement already satisfied: prompt-toolkit<2.0.0,>=1.0.4 in /usr/local/lib/python3.7/dist-packages (from ipython>=4.0.0->ipywidgets<8,>=7.6.0->ipyleaflet>=0.10.2->ipygee) (1.0.18)\n",
            "Requirement already satisfied: pickleshare in /usr/local/lib/python3.7/dist-packages (from ipython>=4.0.0->ipywidgets<8,>=7.6.0->ipyleaflet>=0.10.2->ipygee) (0.7.5)\n",
            "Requirement already satisfied: simplegeneric>0.8 in /usr/local/lib/python3.7/dist-packages (from ipython>=4.0.0->ipywidgets<8,>=7.6.0->ipyleaflet>=0.10.2->ipygee) (0.8.1)\n",
            "Requirement already satisfied: decorator in /usr/local/lib/python3.7/dist-packages (from ipython>=4.0.0->ipywidgets<8,>=7.6.0->ipyleaflet>=0.10.2->ipygee) (4.4.2)\n",
            "Requirement already satisfied: setuptools>=18.5 in /usr/local/lib/python3.7/dist-packages (from ipython>=4.0.0->ipywidgets<8,>=7.6.0->ipyleaflet>=0.10.2->ipygee) (57.4.0)\n",
            "Requirement already satisfied: six>=1.9.0 in /usr/local/lib/python3.7/dist-packages (from prompt-toolkit<2.0.0,>=1.0.4->ipython>=4.0.0->ipywidgets<8,>=7.6.0->ipyleaflet>=0.10.2->ipygee) (1.15.0)\n",
            "Requirement already satisfied: wcwidth in /usr/local/lib/python3.7/dist-packages (from prompt-toolkit<2.0.0,>=1.0.4->ipython>=4.0.0->ipywidgets<8,>=7.6.0->ipyleaflet>=0.10.2->ipygee) (0.2.5)\n",
            "Requirement already satisfied: notebook>=4.4.1 in /usr/local/lib/python3.7/dist-packages (from widgetsnbextension~=3.6.0->ipywidgets<8,>=7.6.0->ipyleaflet>=0.10.2->ipygee) (5.3.1)\n",
            "Requirement already satisfied: Send2Trash in /usr/local/lib/python3.7/dist-packages (from notebook>=4.4.1->widgetsnbextension~=3.6.0->ipywidgets<8,>=7.6.0->ipyleaflet>=0.10.2->ipygee) (1.8.0)\n",
            "Requirement already satisfied: jupyter-core>=4.4.0 in /usr/local/lib/python3.7/dist-packages (from notebook>=4.4.1->widgetsnbextension~=3.6.0->ipywidgets<8,>=7.6.0->ipyleaflet>=0.10.2->ipygee) (4.11.1)\n",
            "Requirement already satisfied: terminado>=0.8.1 in /usr/local/lib/python3.7/dist-packages (from notebook>=4.4.1->widgetsnbextension~=3.6.0->ipywidgets<8,>=7.6.0->ipyleaflet>=0.10.2->ipygee) (0.13.3)\n",
            "Requirement already satisfied: nbformat in /usr/local/lib/python3.7/dist-packages (from notebook>=4.4.1->widgetsnbextension~=3.6.0->ipywidgets<8,>=7.6.0->ipyleaflet>=0.10.2->ipygee) (5.4.0)\n",
            "Requirement already satisfied: nbconvert in /usr/local/lib/python3.7/dist-packages (from notebook>=4.4.1->widgetsnbextension~=3.6.0->ipywidgets<8,>=7.6.0->ipyleaflet>=0.10.2->ipygee) (5.6.1)\n",
            "Requirement already satisfied: jinja2 in /usr/local/lib/python3.7/dist-packages (from notebook>=4.4.1->widgetsnbextension~=3.6.0->ipywidgets<8,>=7.6.0->ipyleaflet>=0.10.2->ipygee) (2.11.3)\n",
            "Requirement already satisfied: pyzmq>=13 in /usr/local/lib/python3.7/dist-packages (from jupyter-client->ipykernel>=4.5.1->ipywidgets<8,>=7.6.0->ipyleaflet>=0.10.2->ipygee) (23.2.0)\n",
            "Requirement already satisfied: python-dateutil>=2.1 in /usr/local/lib/python3.7/dist-packages (from jupyter-client->ipykernel>=4.5.1->ipywidgets<8,>=7.6.0->ipyleaflet>=0.10.2->ipygee) (2.8.2)\n",
            "Requirement already satisfied: ptyprocess in /usr/local/lib/python3.7/dist-packages (from terminado>=0.8.1->notebook>=4.4.1->widgetsnbextension~=3.6.0->ipywidgets<8,>=7.6.0->ipyleaflet>=0.10.2->ipygee) (0.7.0)\n",
            "Requirement already satisfied: requests in /usr/local/lib/python3.7/dist-packages (from geetools->ipygee) (2.23.0)\n",
            "Collecting pyshp\n",
            "  Downloading pyshp-2.3.1-py2.py3-none-any.whl (46 kB)\n",
            "\u001b[K     |████████████████████████████████| 46 kB 3.9 MB/s \n",
            "\u001b[?25hRequirement already satisfied: MarkupSafe>=0.23 in /usr/local/lib/python3.7/dist-packages (from jinja2->notebook>=4.4.1->widgetsnbextension~=3.6.0->ipywidgets<8,>=7.6.0->ipyleaflet>=0.10.2->ipygee) (2.0.1)\n",
            "Requirement already satisfied: bleach in /usr/local/lib/python3.7/dist-packages (from nbconvert->notebook>=4.4.1->widgetsnbextension~=3.6.0->ipywidgets<8,>=7.6.0->ipyleaflet>=0.10.2->ipygee) (5.0.1)\n",
            "Requirement already satisfied: pandocfilters>=1.4.1 in /usr/local/lib/python3.7/dist-packages (from nbconvert->notebook>=4.4.1->widgetsnbextension~=3.6.0->ipywidgets<8,>=7.6.0->ipyleaflet>=0.10.2->ipygee) (1.5.0)\n",
            "Requirement already satisfied: testpath in /usr/local/lib/python3.7/dist-packages (from nbconvert->notebook>=4.4.1->widgetsnbextension~=3.6.0->ipywidgets<8,>=7.6.0->ipyleaflet>=0.10.2->ipygee) (0.6.0)\n",
            "Requirement already satisfied: entrypoints>=0.2.2 in /usr/local/lib/python3.7/dist-packages (from nbconvert->notebook>=4.4.1->widgetsnbextension~=3.6.0->ipywidgets<8,>=7.6.0->ipyleaflet>=0.10.2->ipygee) (0.4)\n",
            "Requirement already satisfied: mistune<2,>=0.8.1 in /usr/local/lib/python3.7/dist-packages (from nbconvert->notebook>=4.4.1->widgetsnbextension~=3.6.0->ipywidgets<8,>=7.6.0->ipyleaflet>=0.10.2->ipygee) (0.8.4)\n",
            "Requirement already satisfied: defusedxml in /usr/local/lib/python3.7/dist-packages (from nbconvert->notebook>=4.4.1->widgetsnbextension~=3.6.0->ipywidgets<8,>=7.6.0->ipyleaflet>=0.10.2->ipygee) (0.7.1)\n",
            "Requirement already satisfied: jsonschema>=2.6 in /usr/local/lib/python3.7/dist-packages (from nbformat->notebook>=4.4.1->widgetsnbextension~=3.6.0->ipywidgets<8,>=7.6.0->ipyleaflet>=0.10.2->ipygee) (4.3.3)\n",
            "Requirement already satisfied: fastjsonschema in /usr/local/lib/python3.7/dist-packages (from nbformat->notebook>=4.4.1->widgetsnbextension~=3.6.0->ipywidgets<8,>=7.6.0->ipyleaflet>=0.10.2->ipygee) (2.16.1)\n",
            "Requirement already satisfied: importlib-metadata in /usr/local/lib/python3.7/dist-packages (from jsonschema>=2.6->nbformat->notebook>=4.4.1->widgetsnbextension~=3.6.0->ipywidgets<8,>=7.6.0->ipyleaflet>=0.10.2->ipygee) (4.12.0)\n",
            "Requirement already satisfied: pyrsistent!=0.17.0,!=0.17.1,!=0.17.2,>=0.14.0 in /usr/local/lib/python3.7/dist-packages (from jsonschema>=2.6->nbformat->notebook>=4.4.1->widgetsnbextension~=3.6.0->ipywidgets<8,>=7.6.0->ipyleaflet>=0.10.2->ipygee) (0.18.1)\n",
            "Requirement already satisfied: importlib-resources>=1.4.0 in /usr/local/lib/python3.7/dist-packages (from jsonschema>=2.6->nbformat->notebook>=4.4.1->widgetsnbextension~=3.6.0->ipywidgets<8,>=7.6.0->ipyleaflet>=0.10.2->ipygee) (5.9.0)\n",
            "Requirement already satisfied: attrs>=17.4.0 in /usr/local/lib/python3.7/dist-packages (from jsonschema>=2.6->nbformat->notebook>=4.4.1->widgetsnbextension~=3.6.0->ipywidgets<8,>=7.6.0->ipyleaflet>=0.10.2->ipygee) (22.1.0)\n",
            "Requirement already satisfied: typing-extensions in /usr/local/lib/python3.7/dist-packages (from jsonschema>=2.6->nbformat->notebook>=4.4.1->widgetsnbextension~=3.6.0->ipywidgets<8,>=7.6.0->ipyleaflet>=0.10.2->ipygee) (4.1.1)\n",
            "Requirement already satisfied: zipp>=3.1.0 in /usr/local/lib/python3.7/dist-packages (from importlib-resources>=1.4.0->jsonschema>=2.6->nbformat->notebook>=4.4.1->widgetsnbextension~=3.6.0->ipywidgets<8,>=7.6.0->ipyleaflet>=0.10.2->ipygee) (3.8.1)\n",
            "Requirement already satisfied: webencodings in /usr/local/lib/python3.7/dist-packages (from bleach->nbconvert->notebook>=4.4.1->widgetsnbextension~=3.6.0->ipywidgets<8,>=7.6.0->ipyleaflet>=0.10.2->ipygee) (0.5.1)\n",
            "Requirement already satisfied: pytz>=2017.3 in /usr/local/lib/python3.7/dist-packages (from pandas->ipygee) (2022.1)\n",
            "Requirement already satisfied: numpy>=1.17.3 in /usr/local/lib/python3.7/dist-packages (from pandas->ipygee) (1.21.6)\n",
            "Requirement already satisfied: urllib3!=1.25.0,!=1.25.1,<1.26,>=1.21.1 in /usr/local/lib/python3.7/dist-packages (from requests->geetools->ipygee) (1.24.3)\n",
            "Requirement already satisfied: certifi>=2017.4.17 in /usr/local/lib/python3.7/dist-packages (from requests->geetools->ipygee) (2022.6.15)\n",
            "Requirement already satisfied: chardet<4,>=3.0.2 in /usr/local/lib/python3.7/dist-packages (from requests->geetools->ipygee) (3.0.4)\n",
            "Requirement already satisfied: idna<3,>=2.5 in /usr/local/lib/python3.7/dist-packages (from requests->geetools->ipygee) (2.10)\n",
            "Building wheels for collected packages: ipygee, geetools\n",
            "  Building wheel for ipygee (setup.py) ... \u001b[?25l\u001b[?25hdone\n",
            "  Created wheel for ipygee: filename=ipygee-0.0.17-py3-none-any.whl size=40379 sha256=82a5e4e6c72d477ee25edb0cbb70dc8072e6c5920bb4566a55764ea75b5dd6c6\n",
            "  Stored in directory: /root/.cache/pip/wheels/73/af/7e/a9d3fac7d32e649c63fdbdb9b320181b20eb4bfdc80af13974\n",
            "  Building wheel for geetools (setup.py) ... \u001b[?25l\u001b[?25hdone\n",
            "  Created wheel for geetools: filename=geetools-0.6.14-py3-none-any.whl size=92107 sha256=27cd30c61ab7d45859b8066523643cc669eba2915165793cb9aeb959158ed4ea\n",
            "  Stored in directory: /root/.cache/pip/wheels/5c/55/29/0a09dcf6b39bba8c890e40171cac3e3607a5c4b354b7e9447c\n",
            "Successfully built ipygee geetools\n",
            "Installing collected packages: xyzservices, traittypes, pyshp, pygal, ipyleaflet, geetools, ipygee\n",
            "Successfully installed geetools-0.6.14 ipygee-0.0.17 ipyleaflet-0.17.0 pygal-3.0.0 pyshp-2.3.1 traittypes-0.2.1 xyzservices-2022.6.0\n"
          ]
        }
      ]
    },
    {
      "cell_type": "markdown",
      "source": [
        "主程序"
      ],
      "metadata": {
        "id": "UHLyZP07Fj6g"
      }
    },
    {
      "cell_type": "code",
      "source": [
        "import ee\n",
        "ee.Initialize()\n",
        "\n",
        "import os \n",
        "os.chdir(\"/content/drive/MyDrive/Graduationproject/acolite-main\")\n"
      ],
      "metadata": {
        "id": "89hC6NlF_qcu"
      },
      "execution_count": null,
      "outputs": []
    },
    {
      "cell_type": "code",
      "source": [
        "from acolite import gee_launch\n",
        "# L8_OLI\n",
        "# L5_TM\n",
        "a = gee_launch.gee_launch(sensor= \"L5_TM\", SUN_ELEVATION= 26.10933006)\n",
        "print(a)\n"
      ],
      "metadata": {
        "colab": {
          "base_uri": "https://localhost:8080/"
        },
        "id": "FmEFljD5Haf8",
        "outputId": "e0899bd7-47f5-467d-e0ac-269211d32de6"
      },
      "execution_count": null,
      "outputs": [
        {
          "output_type": "stream",
          "name": "stdout",
          "text": [
            "{'rhos_486': 0.021920641214705716, 'rhos_571': 0.11416235774115802, 'rhos_660': 0.08607727918999963, 'rhos_839': 0.08904292408449732, 'rhos_1678': 0.13501670550011358, 'rhos_2217': 0.15433105608055175}\n"
          ]
        }
      ]
    },
    {
      "cell_type": "code",
      "source": [
        "import pandas as pd\n",
        "point_list = pd.read_csv(\"/content/drive/MyDrive/Graduationproject/coordinates_Fourlakes.csv\")\n",
        "for index in point_list.iterrows():\n",
        "  print(index[1][\"lon\"])"
      ],
      "metadata": {
        "colab": {
          "base_uri": "https://localhost:8080/"
        },
        "id": "ASzr-Ahy_Na0",
        "outputId": "26bab98b-2383-4838-9228-86994651440a"
      },
      "execution_count": null,
      "outputs": [
        {
          "output_type": "stream",
          "name": "stdout",
          "text": [
            "102.923333\n",
            "102.858056\n",
            "102.896667\n",
            "102.860278\n",
            "102.830278\n",
            "102.942778\n",
            "102.847222\n",
            "102.856111\n",
            "102.936667\n",
            "102.910833\n",
            "102.840833\n",
            "102.856667\n",
            "102.824722\n",
            "102.709444\n",
            "102.642778\n",
            "102.69\n",
            "102.761111\n",
            "102.636389\n",
            "102.67\n",
            "102.640231\n",
            "102.676242\n",
            "102.63\n",
            "102.77\n",
            "100.161389\n",
            "100.21\n",
            "100.275556\n",
            "100.23218\n",
            "100.251111\n",
            "100.229722\n",
            "100.18336\n",
            "100.239444\n",
            "100.13369\n",
            "100.15869\n",
            "100.18641\n",
            "100.200271\n",
            "100.233015\n",
            "100.175298\n",
            "100.117112\n",
            "100.156861\n",
            "100.162301\n",
            "100.150752\n",
            "102.5330556\n",
            "102.5636111\n",
            "102.6141667\n"
          ]
        }
      ]
    },
    {
      "cell_type": "code",
      "source": [
        "from acolite import gee_launch\n",
        "\n",
        "# a = gee_launch.gee_launch(sensor= \"L8_OLI\", SUN_ELEVATION= 26.10933006)\n",
        "# print(a)\n",
        "\n",
        "l5 = ee.ImageCollection(\"LANDSAT/LT05/C02/T1\")\n",
        "l8 = ee.ImageCollection(\"LANDSAT/LC08/C02/T1\")\n",
        "\n",
        "# landsat = l8\n",
        "start_time = \"1984-04\"\n",
        "over_time = \"2022-08\"\n",
        "# start_date = start_time.split(\"-\")\n",
        "# if (int(start_date[0]) >= 2013) and (int(start_date[1]) >= 4):\n",
        "#   sensor = \"L8_OLI\"\n",
        "# elif (int(start_date[0]) >= 1984) and (int(start_date[1]) >= 3):\n",
        "#   sensor = \"L5_TM\"\n",
        "# else:\n",
        "#   print(\"time over range\")\n"
      ],
      "metadata": {
        "id": "ZSIFuNLmFz7r"
      },
      "execution_count": null,
      "outputs": []
    },
    {
      "cell_type": "code",
      "source": [
        "def GetReflectance(image, station, longitude, latitude):\n",
        "  info = image\n",
        "  date = info[\"properties\"][\"DATE_ACQUIRED\"].split(\"-\")\n",
        "  # print(date)\n",
        "  sensor = \"L8_OLI\"\n",
        "  if (int(date[0]) >= 2013) and (int(date[1]) >= 4) or int(date[0]) >= 2014:\n",
        "    sensor = \"L8_OLI\"\n",
        "  elif (int(date[0]) >= 1984) and (int(date[1]) >= 3) or int(date[0]) >= 1985:\n",
        "    sensor = \"L5_TM\"\n",
        "  else:\n",
        "    print(\"time over range\")\n",
        "    return\n",
        "  SUN_ELEVATION = float(info[\"properties\"][\"SUN_ELEVATION\"])\n",
        "  a = gee_launch.gee_launch(sensor= sensor, SUN_ELEVATION= SUN_ELEVATION)\n",
        "  a[\"longitude\"] = longitude\n",
        "  a[\"latitude\"] = latitude\n",
        "  a[\"date\"] = info[\"properties\"][\"DATE_ACQUIRED\"]\n",
        "  a[\"sta\"] = station\n",
        "  reflectance_list.append(a)\n",
        "  return 0\n"
      ],
      "metadata": {
        "id": "FvnMjoJ2sd41"
      },
      "execution_count": null,
      "outputs": []
    },
    {
      "cell_type": "code",
      "source": [
        "import pandas as pd\n",
        "point_list = pd.read_csv(\"/content/drive/MyDrive/Graduationproject/coordinates_Fourlakes.csv\")\n",
        "\n",
        "reflectance_list = []\n",
        "\n",
        "# l5\n",
        "for index in point_list.iterrows():\n",
        "  data1 = l5.filterDate('1984-04-01', '2012-05-01')\n",
        "  longitude = index[1][\"lon\"]\n",
        "  latitude = index[1][\"lat\"]\n",
        "  point = ee.Geometry.Point(longitude,latitude)\n",
        "  data1 = data1.filterBounds(point)\n",
        "  data1 = data1.getInfo()\n",
        "  for image in data1[\"features\"]:  \n",
        "    GetReflectance(image, index[1][\"sta\"], longitude, latitude)\n",
        "\n",
        "# # l8\n",
        "# for index in point_list.iterrows():\n",
        "#   data2 = l8.filterDate('2012-05-01', '2022-08-01')\n",
        "#   longitude = index[1][\"lon\"]\n",
        "#   latitude = index[1][\"lat\"]\n",
        "#   point = ee.Geometry.Point(longitude,latitude)\n",
        "#   data2 = data2.filterBounds(point)\n",
        "#   data2 = data2.getInfo()\n",
        "#   for image in data2[\"features\"]:  \n",
        "#     GetReflectance(image, index[1][\"sta\"], longitude, latitude)\n",
        "\n",
        "# l8\n",
        "# dataframe = pd.DataFrame(reflectance_list, columns=['rhos_443', \"rhos_483\", \"rhos_561\", \"rhos_655\", \"rhos_865\", \"rhos_1609\", \"rhos_2201\", \"rhos_592\", \"rhos_1373\", \"longitude\", \"latitude\", \"date\", \"sta\"])\n",
        "# l5\n",
        "dataframe = pd.DataFrame(reflectance_list, columns=['rhos_486', \"rhos_571\", \"rhos_660\", \"rhos_839\", \"rhos_1678\", \"rhos_2217\", \"longitude\", \"latitude\", \"date\", \"sta\"])\n",
        "\n",
        "dataframe.to_csv(\"/content/drive/MyDrive/Graduationproject/l5_reflectance.csv\", encoding='utf-8', index=False, header=True)\n",
        "# longitude = 102.56685\n",
        "# latitude = 23.683818\n",
        "# point = ee.Geometry.Point(longitude,latitude)\n",
        "# data = data.filterBounds(point)\n",
        "\n",
        "# # 查询影像集内的影像数量\n",
        "# print('count:',data.size().getInfo())\n",
        "\n",
        "# info = data.first().getInfo()\n",
        "# print(info)\n",
        "# for key,value in info.items():\n",
        "#     print(\"key\", key,\"value\",value)\n",
        "# info = data.first().getInfo()\n",
        "# print(info[\"properties\"][\"SUN_ELEVATION\"])\n",
        "\n",
        "# satellite = l5\n",
        "# # 时间序列为1984至今 l5(March 1984–May 2012)  l8(April 2013–Present)\n",
        "# data = satellite.filter(\"1984-1-1\", \"2012-5-1\")\n",
        "# # 空间序列为异龙湖\n",
        "# data = data.getInfo()\n"
      ],
      "metadata": {
        "id": "u0h6wJ8PCUiL"
      },
      "execution_count": null,
      "outputs": []
    },
    {
      "cell_type": "code",
      "source": [
        "\n",
        "# print(data[\"features\"])\n",
        "# collection = data.getInfo()\n",
        "# print(collection[0])\n",
        "# data.map(GetReflectance)\n",
        "# map(GetReflectance, data)\n",
        "for image in data[\"features\"]:  \n",
        "  # print(image)\n",
        "  # a = image[\"properties\"][\"DATE_ACQUIRED\"].split(\"-\")\n",
        "  # print(int(a[1])>= 4)\n",
        "  GetReflectance(image)\n",
        "# for bi, b in enumerate(data):\n",
        "#   print('bi', bi, \"b\", b)\n",
        "print(reflectance_list)"
      ],
      "metadata": {
        "colab": {
          "base_uri": "https://localhost:8080/"
        },
        "id": "mcHy50TcN-2X",
        "outputId": "b1afbe07-0dd1-479b-bc97-55a84613932e"
      },
      "execution_count": null,
      "outputs": [
        {
          "output_type": "stream",
          "name": "stdout",
          "text": [
            "{'type': 'Image', 'bands': [{'id': 'B1', 'data_type': {'type': 'PixelType', 'precision': 'int', 'min': 0, 'max': 65535}, 'dimensions': [7701, 7851], 'crs': 'EPSG:32648', 'crs_transform': [30, 0, 153885, 0, -30, 2675115]}, {'id': 'B2', 'data_type': {'type': 'PixelType', 'precision': 'int', 'min': 0, 'max': 65535}, 'dimensions': [7701, 7851], 'crs': 'EPSG:32648', 'crs_transform': [30, 0, 153885, 0, -30, 2675115]}, {'id': 'B3', 'data_type': {'type': 'PixelType', 'precision': 'int', 'min': 0, 'max': 65535}, 'dimensions': [7701, 7851], 'crs': 'EPSG:32648', 'crs_transform': [30, 0, 153885, 0, -30, 2675115]}, {'id': 'B4', 'data_type': {'type': 'PixelType', 'precision': 'int', 'min': 0, 'max': 65535}, 'dimensions': [7701, 7851], 'crs': 'EPSG:32648', 'crs_transform': [30, 0, 153885, 0, -30, 2675115]}, {'id': 'B5', 'data_type': {'type': 'PixelType', 'precision': 'int', 'min': 0, 'max': 65535}, 'dimensions': [7701, 7851], 'crs': 'EPSG:32648', 'crs_transform': [30, 0, 153885, 0, -30, 2675115]}, {'id': 'B6', 'data_type': {'type': 'PixelType', 'precision': 'int', 'min': 0, 'max': 65535}, 'dimensions': [7701, 7851], 'crs': 'EPSG:32648', 'crs_transform': [30, 0, 153885, 0, -30, 2675115]}, {'id': 'B7', 'data_type': {'type': 'PixelType', 'precision': 'int', 'min': 0, 'max': 65535}, 'dimensions': [7701, 7851], 'crs': 'EPSG:32648', 'crs_transform': [30, 0, 153885, 0, -30, 2675115]}, {'id': 'B8', 'data_type': {'type': 'PixelType', 'precision': 'int', 'min': 0, 'max': 65535}, 'dimensions': [15401, 15701], 'crs': 'EPSG:32648', 'crs_transform': [15, 0, 153892.5, 0, -15, 2675107.5]}, {'id': 'B9', 'data_type': {'type': 'PixelType', 'precision': 'int', 'min': 0, 'max': 65535}, 'dimensions': [7701, 7851], 'crs': 'EPSG:32648', 'crs_transform': [30, 0, 153885, 0, -30, 2675115]}, {'id': 'B10', 'data_type': {'type': 'PixelType', 'precision': 'int', 'min': 0, 'max': 65535}, 'dimensions': [7701, 7851], 'crs': 'EPSG:32648', 'crs_transform': [30, 0, 153885, 0, -30, 2675115]}, {'id': 'B11', 'data_type': {'type': 'PixelType', 'precision': 'int', 'min': 0, 'max': 65535}, 'dimensions': [7701, 7851], 'crs': 'EPSG:32648', 'crs_transform': [30, 0, 153885, 0, -30, 2675115]}, {'id': 'QA_PIXEL', 'data_type': {'type': 'PixelType', 'precision': 'int', 'min': 0, 'max': 65535}, 'dimensions': [7701, 7851], 'crs': 'EPSG:32648', 'crs_transform': [30, 0, 153885, 0, -30, 2675115]}, {'id': 'QA_RADSAT', 'data_type': {'type': 'PixelType', 'precision': 'int', 'min': 0, 'max': 65535}, 'dimensions': [7701, 7851], 'crs': 'EPSG:32648', 'crs_transform': [30, 0, 153885, 0, -30, 2675115]}, {'id': 'SAA', 'data_type': {'type': 'PixelType', 'precision': 'int', 'min': -32768, 'max': 32767}, 'dimensions': [7701, 7851], 'crs': 'EPSG:32648', 'crs_transform': [30, 0, 153885, 0, -30, 2675115]}, {'id': 'SZA', 'data_type': {'type': 'PixelType', 'precision': 'int', 'min': -32768, 'max': 32767}, 'dimensions': [7701, 7851], 'crs': 'EPSG:32648', 'crs_transform': [30, 0, 153885, 0, -30, 2675115]}, {'id': 'VAA', 'data_type': {'type': 'PixelType', 'precision': 'int', 'min': -32768, 'max': 32767}, 'dimensions': [7701, 7851], 'crs': 'EPSG:32648', 'crs_transform': [30, 0, 153885, 0, -30, 2675115]}, {'id': 'VZA', 'data_type': {'type': 'PixelType', 'precision': 'int', 'min': -32768, 'max': 32767}, 'dimensions': [7701, 7851], 'crs': 'EPSG:32648', 'crs_transform': [30, 0, 153885, 0, -30, 2675115]}], 'id': 'LANDSAT/LC08/C02/T1/LC08_129044_20210512', 'version': 1634390438491923, 'properties': {'RADIANCE_MULT_BAND_5': 0.0059905, 'RADIANCE_MULT_BAND_6': 0.0014898, 'RADIANCE_MULT_BAND_3': 0.011609, 'RADIANCE_MULT_BAND_4': 0.0097892, 'RADIANCE_MULT_BAND_1': 0.012302, 'RADIANCE_MULT_BAND_2': 0.012598, 'WRS_TYPE': 2, 'K2_CONSTANT_BAND_11': 1201.1442, 'K2_CONSTANT_BAND_10': 1321.0789, 'system:footprint': {'type': 'LinearRing', 'coordinates': [[103.43461780106219, 22.057046559118714], [103.44137662482309, 22.055660429707874], [103.62714958005758, 22.81444831062278], [103.7454305368236, 23.298470582995964], [103.86601528022894, 23.788603931616816], [102.93658732585043, 23.980568598261694], [102.04657717674836, 24.15850033823113], [102.04469865991906, 24.158463947028753], [102.0440172426439, 24.157144435397864], [102.04259611928454, 24.151416820657268], [102.03371702660168, 24.11429043337417], [101.9251333619796, 23.655726581308322], [101.83917342307967, 23.286515342684982], [101.75356327895628, 22.91729427092243], [101.67015833486076, 22.55425160608905], [101.64515420554099, 22.44444408427933], [101.6418665368035, 22.42934409150919], [101.6419036948287, 22.42780342942985], [101.65199919143537, 22.425678670717854], [102.2235979871972, 22.30986845870826], [103.43461780106219, 22.057046559118714]]}, 'REFLECTIVE_SAMPLES': 7701, 'SUN_AZIMUTH': 98.93721809, 'DATA_SOURCE_TIRS_STRAY_LIGHT_CORRECTION': 'TIRS', 'DATE_ACQUIRED': '2021-05-12', 'ELLIPSOID': 'WGS84', 'STATION_ID': 'LGN', 'RESAMPLING_OPTION': 'CUBIC_CONVOLUTION', 'ORIENTATION': 'NORTH_UP', 'WRS_ROW': 44, 'RADIANCE_MULT_BAND_9': 0.0023412, 'TARGET_WRS_ROW': 44, 'RADIANCE_MULT_BAND_7': 0.00050214, 'RADIANCE_MULT_BAND_8': 0.011079, 'IMAGE_QUALITY_TIRS': 9, 'TRUNCATION_OLI': 'UPPER', 'CLOUD_COVER': 61.62, 'GEOMETRIC_RMSE_VERIFY': 8.214, 'COLLECTION_CATEGORY': 'T1', 'GRID_CELL_SIZE_REFLECTIVE': 30, 'CLOUD_COVER_LAND': 61.62, 'GEOMETRIC_RMSE_MODEL': 9.023, 'COLLECTION_NUMBER': 2, 'IMAGE_QUALITY_OLI': 9, 'LANDSAT_SCENE_ID': 'LC81290442021132LGN00', 'WRS_PATH': 129, 'PANCHROMATIC_SAMPLES': 15401, 'PANCHROMATIC_LINES': 15701, 'GEOMETRIC_RMSE_MODEL_Y': 7.216, 'REFLECTIVE_LINES': 7851, 'GEOMETRIC_RMSE_MODEL_X': 5.416, 'system:asset_size': 1343568888, 'system:index': 'LC08_129044_20210512', 'DATA_SOURCE_ELEVATION': 'GLS2000', 'REFLECTANCE_ADD_BAND_1': -0.1, 'REFLECTANCE_ADD_BAND_2': -0.1, 'DATUM': 'WGS84', 'REFLECTANCE_ADD_BAND_3': -0.1, 'REFLECTANCE_ADD_BAND_4': -0.1, 'REFLECTANCE_ADD_BAND_5': -0.1, 'REFLECTANCE_ADD_BAND_6': -0.1, 'REFLECTANCE_ADD_BAND_7': -0.1, 'REFLECTANCE_ADD_BAND_8': -0.1, 'GROUND_CONTROL_POINTS_VERSION': 5, 'UTM_ZONE': 48, 'system:time_end': 1620790495741, 'LANDSAT_PRODUCT_ID': 'LC08_L1TP_129044_20210512_20210524_02_T1', 'REFLECTANCE_ADD_BAND_9': -0.1, 'GRID_CELL_SIZE_PANCHROMATIC': 15, 'RADIANCE_ADD_BAND_4': -48.94623, 'REFLECTANCE_MULT_BAND_7': 2e-05, 'system:time_start': 1620790495741, 'RADIANCE_ADD_BAND_5': -29.95266, 'REFLECTANCE_MULT_BAND_6': 2e-05, 'RADIANCE_ADD_BAND_6': -7.44895, 'REFLECTANCE_MULT_BAND_9': 2e-05, 'PROCESSING_SOFTWARE_VERSION': 'LPGS_15.5.0', 'RADIANCE_ADD_BAND_7': -2.5107, 'REFLECTANCE_MULT_BAND_8': 2e-05, 'RADIANCE_ADD_BAND_1': -61.51248, 'RADIANCE_ADD_BAND_2': -62.98953, 'RADIANCE_ADD_BAND_3': -58.04431, 'REFLECTANCE_MULT_BAND_1': 2e-05, 'RADIANCE_ADD_BAND_8': -55.39367, 'REFLECTANCE_MULT_BAND_3': 2e-05, 'RADIANCE_ADD_BAND_9': -11.70618, 'REFLECTANCE_MULT_BAND_2': 2e-05, 'REFLECTANCE_MULT_BAND_5': 2e-05, 'REFLECTANCE_MULT_BAND_4': 2e-05, 'THERMAL_LINES': 7851, 'TIRS_SSM_POSITION_STATUS': 'ESTIMATED', 'GRID_CELL_SIZE_THERMAL': 30, 'NADIR_OFFNADIR': 'NADIR', 'RADIANCE_ADD_BAND_11': 0.1, 'REQUEST_ID': 'P700tb5xt6f4p_00036', 'EARTH_SUN_DISTANCE': 1.0102406, 'TIRS_SSM_MODEL': 'FINAL', 'SCENE_CENTER_TIME': '03:34:55.7413549Z', 'SUN_ELEVATION': 68.29906433, 'RADIANCE_ADD_BAND_10': 0.1, 'ROLL_ANGLE': -0.001, 'DATE_PRODUCT_GENERATED': 1621879670000, 'K1_CONSTANT_BAND_10': 774.8853, 'SATURATION_BAND_1': 'Y', 'SATURATION_BAND_2': 'Y', 'SATURATION_BAND_3': 'Y', 'SATURATION_BAND_4': 'Y', 'SATURATION_BAND_5': 'Y', 'MAP_PROJECTION': 'UTM', 'SATURATION_BAND_6': 'Y', 'SENSOR_ID': 'OLI_TIRS', 'SATURATION_BAND_7': 'Y', 'K1_CONSTANT_BAND_11': 480.8883, 'SATURATION_BAND_8': 'N', 'SATURATION_BAND_9': 'N', 'TARGET_WRS_PATH': 129, 'PROCESSING_LEVEL': 'L1TP', 'RADIANCE_MULT_BAND_11': 0.0003342, 'RADIANCE_MULT_BAND_10': 0.0003342, 'GROUND_CONTROL_POINTS_MODEL': 324, 'SPACECRAFT_ID': 'LANDSAT_8', 'THERMAL_SAMPLES': 7701, 'GROUND_CONTROL_POINTS_VERIFY': 148}}\n",
            "{'type': 'Image', 'bands': [{'id': 'B1', 'data_type': {'type': 'PixelType', 'precision': 'int', 'min': 0, 'max': 65535}, 'dimensions': [7701, 7851], 'crs': 'EPSG:32648', 'crs_transform': [30, 0, 152985, 0, -30, 2675115]}, {'id': 'B2', 'data_type': {'type': 'PixelType', 'precision': 'int', 'min': 0, 'max': 65535}, 'dimensions': [7701, 7851], 'crs': 'EPSG:32648', 'crs_transform': [30, 0, 152985, 0, -30, 2675115]}, {'id': 'B3', 'data_type': {'type': 'PixelType', 'precision': 'int', 'min': 0, 'max': 65535}, 'dimensions': [7701, 7851], 'crs': 'EPSG:32648', 'crs_transform': [30, 0, 152985, 0, -30, 2675115]}, {'id': 'B4', 'data_type': {'type': 'PixelType', 'precision': 'int', 'min': 0, 'max': 65535}, 'dimensions': [7701, 7851], 'crs': 'EPSG:32648', 'crs_transform': [30, 0, 152985, 0, -30, 2675115]}, {'id': 'B5', 'data_type': {'type': 'PixelType', 'precision': 'int', 'min': 0, 'max': 65535}, 'dimensions': [7701, 7851], 'crs': 'EPSG:32648', 'crs_transform': [30, 0, 152985, 0, -30, 2675115]}, {'id': 'B6', 'data_type': {'type': 'PixelType', 'precision': 'int', 'min': 0, 'max': 65535}, 'dimensions': [7701, 7851], 'crs': 'EPSG:32648', 'crs_transform': [30, 0, 152985, 0, -30, 2675115]}, {'id': 'B7', 'data_type': {'type': 'PixelType', 'precision': 'int', 'min': 0, 'max': 65535}, 'dimensions': [7701, 7851], 'crs': 'EPSG:32648', 'crs_transform': [30, 0, 152985, 0, -30, 2675115]}, {'id': 'B8', 'data_type': {'type': 'PixelType', 'precision': 'int', 'min': 0, 'max': 65535}, 'dimensions': [15401, 15701], 'crs': 'EPSG:32648', 'crs_transform': [15, 0, 152992.5, 0, -15, 2675107.5]}, {'id': 'B9', 'data_type': {'type': 'PixelType', 'precision': 'int', 'min': 0, 'max': 65535}, 'dimensions': [7701, 7851], 'crs': 'EPSG:32648', 'crs_transform': [30, 0, 152985, 0, -30, 2675115]}, {'id': 'B10', 'data_type': {'type': 'PixelType', 'precision': 'int', 'min': 0, 'max': 65535}, 'dimensions': [7701, 7851], 'crs': 'EPSG:32648', 'crs_transform': [30, 0, 152985, 0, -30, 2675115]}, {'id': 'B11', 'data_type': {'type': 'PixelType', 'precision': 'int', 'min': 0, 'max': 65535}, 'dimensions': [7701, 7851], 'crs': 'EPSG:32648', 'crs_transform': [30, 0, 152985, 0, -30, 2675115]}, {'id': 'QA_PIXEL', 'data_type': {'type': 'PixelType', 'precision': 'int', 'min': 0, 'max': 65535}, 'dimensions': [7701, 7851], 'crs': 'EPSG:32648', 'crs_transform': [30, 0, 152985, 0, -30, 2675115]}, {'id': 'QA_RADSAT', 'data_type': {'type': 'PixelType', 'precision': 'int', 'min': 0, 'max': 65535}, 'dimensions': [7701, 7851], 'crs': 'EPSG:32648', 'crs_transform': [30, 0, 152985, 0, -30, 2675115]}, {'id': 'SAA', 'data_type': {'type': 'PixelType', 'precision': 'int', 'min': -32768, 'max': 32767}, 'dimensions': [7701, 7851], 'crs': 'EPSG:32648', 'crs_transform': [30, 0, 152985, 0, -30, 2675115]}, {'id': 'SZA', 'data_type': {'type': 'PixelType', 'precision': 'int', 'min': -32768, 'max': 32767}, 'dimensions': [7701, 7851], 'crs': 'EPSG:32648', 'crs_transform': [30, 0, 152985, 0, -30, 2675115]}, {'id': 'VAA', 'data_type': {'type': 'PixelType', 'precision': 'int', 'min': -32768, 'max': 32767}, 'dimensions': [7701, 7851], 'crs': 'EPSG:32648', 'crs_transform': [30, 0, 152985, 0, -30, 2675115]}, {'id': 'VZA', 'data_type': {'type': 'PixelType', 'precision': 'int', 'min': -32768, 'max': 32767}, 'dimensions': [7701, 7851], 'crs': 'EPSG:32648', 'crs_transform': [30, 0, 152985, 0, -30, 2675115]}], 'id': 'LANDSAT/LC08/C02/T1/LC08_129044_20210528', 'version': 1634387042985371, 'properties': {'RADIANCE_MULT_BAND_5': 0.0059537, 'RADIANCE_MULT_BAND_6': 0.0014806, 'RADIANCE_MULT_BAND_3': 0.011537, 'RADIANCE_MULT_BAND_4': 0.0097291, 'RADIANCE_MULT_BAND_1': 0.012227, 'RADIANCE_MULT_BAND_2': 0.01252, 'WRS_TYPE': 2, 'K2_CONSTANT_BAND_11': 1201.1442, 'K2_CONSTANT_BAND_10': 1321.0789, 'system:footprint': {'type': 'LinearRing', 'coordinates': [[103.43179006709335, 22.055777962306568], [103.43249703884216, 22.05713067149572], [103.61920550019293, 22.819663284860493], [103.7349192842412, 23.293305793827766], [103.85667036663911, 23.788327012208182], [103.774951695244, 23.80545967116417], [102.98275372221528, 23.968994302436467], [102.1475524216373, 24.13645913040476], [102.03576501800816, 24.158485000509053], [102.02486323487605, 24.114524704608247], [101.91870761771753, 23.66656270911173], [101.83196096036164, 23.29408485179127], [101.74557028531741, 22.921597069737015], [101.66155000474679, 22.555640752178537], [101.63664700882613, 22.44671015792912], [101.63243039369458, 22.427474924737943], [101.64237720036606, 22.425382073970216], [102.45698363320659, 22.25966657313404], [103.1776690970725, 22.10923264978067], [103.42227176863308, 22.057364217203276], [103.42993892537542, 22.05576017981695], [103.43179006709335, 22.055777962306568]]}, 'REFLECTIVE_SAMPLES': 7701, 'SUN_AZIMUTH': 89.97961499, 'DATA_SOURCE_TIRS_STRAY_LIGHT_CORRECTION': 'TIRS', 'DATE_ACQUIRED': '2021-05-28', 'ELLIPSOID': 'WGS84', 'STATION_ID': 'LGN', 'RESAMPLING_OPTION': 'CUBIC_CONVOLUTION', 'ORIENTATION': 'NORTH_UP', 'WRS_ROW': 44, 'RADIANCE_MULT_BAND_9': 0.0023268, 'TARGET_WRS_ROW': 44, 'RADIANCE_MULT_BAND_7': 0.00049905, 'RADIANCE_MULT_BAND_8': 0.011011, 'IMAGE_QUALITY_TIRS': 9, 'TRUNCATION_OLI': 'UPPER', 'CLOUD_COVER': 63.75, 'GEOMETRIC_RMSE_VERIFY': 14.899, 'COLLECTION_CATEGORY': 'T1', 'GRID_CELL_SIZE_REFLECTIVE': 30, 'CLOUD_COVER_LAND': 63.75, 'GEOMETRIC_RMSE_MODEL': 8.794, 'COLLECTION_NUMBER': 2, 'IMAGE_QUALITY_OLI': 9, 'LANDSAT_SCENE_ID': 'LC81290442021148LGN00', 'WRS_PATH': 129, 'PANCHROMATIC_SAMPLES': 15401, 'PANCHROMATIC_LINES': 15701, 'GEOMETRIC_RMSE_MODEL_Y': 6.889, 'REFLECTIVE_LINES': 7851, 'GEOMETRIC_RMSE_MODEL_X': 5.466, 'system:asset_size': 1399201332, 'system:index': 'LC08_129044_20210528', 'DATA_SOURCE_ELEVATION': 'GLS2000', 'REFLECTANCE_ADD_BAND_1': -0.1, 'REFLECTANCE_ADD_BAND_2': -0.1, 'DATUM': 'WGS84', 'REFLECTANCE_ADD_BAND_3': -0.1, 'REFLECTANCE_ADD_BAND_4': -0.1, 'REFLECTANCE_ADD_BAND_5': -0.1, 'REFLECTANCE_ADD_BAND_6': -0.1, 'REFLECTANCE_ADD_BAND_7': -0.1, 'REFLECTANCE_ADD_BAND_8': -0.1, 'GROUND_CONTROL_POINTS_VERSION': 5, 'UTM_ZONE': 48, 'system:time_end': 1622172905508, 'LANDSAT_PRODUCT_ID': 'LC08_L1TP_129044_20210528_20210607_02_T1', 'REFLECTANCE_ADD_BAND_9': -0.1, 'GRID_CELL_SIZE_PANCHROMATIC': 15, 'RADIANCE_ADD_BAND_4': -48.64526, 'REFLECTANCE_MULT_BAND_7': 2e-05, 'system:time_start': 1622172905508, 'RADIANCE_ADD_BAND_5': -29.76848, 'REFLECTANCE_MULT_BAND_6': 2e-05, 'RADIANCE_ADD_BAND_6': -7.40315, 'REFLECTANCE_MULT_BAND_9': 2e-05, 'PROCESSING_SOFTWARE_VERSION': 'LPGS_15.5.0', 'RADIANCE_ADD_BAND_7': -2.49526, 'REFLECTANCE_MULT_BAND_8': 2e-05, 'RADIANCE_ADD_BAND_1': -61.13424, 'RADIANCE_ADD_BAND_2': -62.60221, 'RADIANCE_ADD_BAND_3': -57.6874, 'REFLECTANCE_MULT_BAND_1': 2e-05, 'RADIANCE_ADD_BAND_8': -55.05305, 'REFLECTANCE_MULT_BAND_3': 2e-05, 'RADIANCE_ADD_BAND_9': -11.6342, 'REFLECTANCE_MULT_BAND_2': 2e-05, 'REFLECTANCE_MULT_BAND_5': 2e-05, 'REFLECTANCE_MULT_BAND_4': 2e-05, 'THERMAL_LINES': 7851, 'TIRS_SSM_POSITION_STATUS': 'ESTIMATED', 'GRID_CELL_SIZE_THERMAL': 30, 'NADIR_OFFNADIR': 'NADIR', 'RADIANCE_ADD_BAND_11': 0.1, 'REQUEST_ID': 'P700u4n5ju6sq_00036', 'EARTH_SUN_DISTANCE': 1.013361, 'TIRS_SSM_MODEL': 'FINAL', 'SCENE_CENTER_TIME': '03:35:05.5085330Z', 'SUN_ELEVATION': 68.8595857, 'RADIANCE_ADD_BAND_10': 0.1, 'ROLL_ANGLE': -0.001, 'DATE_PRODUCT_GENERATED': 1623103520000, 'K1_CONSTANT_BAND_10': 774.8853, 'SATURATION_BAND_1': 'Y', 'SATURATION_BAND_2': 'Y', 'SATURATION_BAND_3': 'Y', 'SATURATION_BAND_4': 'Y', 'SATURATION_BAND_5': 'Y', 'MAP_PROJECTION': 'UTM', 'SATURATION_BAND_6': 'Y', 'SENSOR_ID': 'OLI_TIRS', 'SATURATION_BAND_7': 'Y', 'K1_CONSTANT_BAND_11': 480.8883, 'SATURATION_BAND_8': 'N', 'SATURATION_BAND_9': 'N', 'TARGET_WRS_PATH': 129, 'PROCESSING_LEVEL': 'L1TP', 'RADIANCE_MULT_BAND_11': 0.0003342, 'RADIANCE_MULT_BAND_10': 0.0003342, 'GROUND_CONTROL_POINTS_MODEL': 91, 'SPACECRAFT_ID': 'LANDSAT_8', 'THERMAL_SAMPLES': 7701, 'GROUND_CONTROL_POINTS_VERIFY': 52}}\n",
            "[{'rhos_443': 0.001793810316952249, 'rhos_483': 0.012262915535182217, 'rhos_561': 0.06709683977714176, 'rhos_655': 0.04639227861868489, 'rhos_865': 0.0033329209215576805, 'rhos_1609': 0.03503261245580647, 'rhos_2201': 0.0783192196142124, 'rhos_592': 0.05967511757599897, 'rhos_1373': 0.9913847108980512, 'longitude': 102.56685, 'latitude': 23.683818, 'date': '2021-05-12'}, {'rhos_443': 0.0017902518004405676, 'rhos_483': 0.012238771141764415, 'rhos_561': 0.06696467721331845, 'rhos_655': 0.04629465942875033, 'rhos_865': 0.0033241449856227234, 'rhos_1609': 0.0349723090816646, 'rhos_2201': 0.07816350220608959, 'rhos_592': 0.059555699232980874, 'rhos_1373': 0.991335728335984, 'longitude': 102.56685, 'latitude': 23.683818, 'date': '2021-05-28'}]\n"
          ]
        }
      ]
    },
    {
      "cell_type": "code",
      "source": [
        "from IPython.display import Image\n",
        "import pandas as pd\n",
        "import io\n",
        "from google.colab import files\n",
        "import matplotlib.pyplot as plt\n",
        "# uploaded = files.upload()\n",
        "\n",
        "\n",
        "\n",
        "\n",
        "# l8 = ee.ImageCollection(\"LANDSAT/LC08/C02/T1\") ;# April 2013 - Present\n",
        "# roi = ee.Geometry.Point(25.8544, -18.08874)\n",
        "# image = l8.filterDate(\"2014-1-1\", \"2014-6-1\").filterBounds(roi).first()\n",
        "# # print(image)\n",
        "# myMap.centerObject(roi, 5) \n",
        "# area = {\"min\": 0, \"max\": 3000, \"bands\":[\"B4\", \"B3\", \"B2\"]}\n",
        "# myMap.addLayer(image, area, name=\"image\") "
      ],
      "metadata": {
        "id": "zDpf8YIX_2PX"
      },
      "execution_count": null,
      "outputs": []
    },
    {
      "cell_type": "code",
      "source": [
        "!pip install Py6S"
      ],
      "metadata": {
        "colab": {
          "base_uri": "https://localhost:8080/"
        },
        "id": "qhLbpuPLK1Fj",
        "outputId": "da2aef86-4a73-41bd-cad3-818bf2a5eccc"
      },
      "execution_count": null,
      "outputs": [
        {
          "output_type": "stream",
          "name": "stdout",
          "text": [
            "Looking in indexes: https://pypi.org/simple, https://us-python.pkg.dev/colab-wheels/public/simple/\n",
            "Requirement already satisfied: Py6S in /usr/local/lib/python3.7/dist-packages (1.9.1)\n",
            "Requirement already satisfied: scipy in /usr/local/lib/python3.7/dist-packages (from Py6S) (1.4.1)\n",
            "Requirement already satisfied: pysolar>=0.9 in /usr/local/lib/python3.7/dist-packages (from Py6S) (0.10)\n",
            "Requirement already satisfied: numpy>=1.13.3 in /usr/local/lib/python3.7/dist-packages (from scipy->Py6S) (1.21.6)\n"
          ]
        }
      ]
    },
    {
      "cell_type": "code",
      "source": [
        "# 查看gfortran是否安装\n",
        "!gfortran -v\n",
        "# 下载6S源码\n",
        "!wget http://rtwilson.com/downloads/6SV-1.1.tar"
      ],
      "metadata": {
        "colab": {
          "base_uri": "https://localhost:8080/"
        },
        "id": "wF12ofO3WNXq",
        "outputId": "2aef46c7-a859-4b15-c7f1-c148c631224b"
      },
      "execution_count": null,
      "outputs": [
        {
          "output_type": "stream",
          "name": "stdout",
          "text": [
            "Using built-in specs.\n",
            "COLLECT_GCC=gfortran\n",
            "COLLECT_LTO_WRAPPER=/usr/lib/gcc/x86_64-linux-gnu/7/lto-wrapper\n",
            "OFFLOAD_TARGET_NAMES=nvptx-none\n",
            "OFFLOAD_TARGET_DEFAULT=1\n",
            "Target: x86_64-linux-gnu\n",
            "Configured with: ../src/configure -v --with-pkgversion='Ubuntu 7.5.0-3ubuntu1~18.04' --with-bugurl=file:///usr/share/doc/gcc-7/README.Bugs --enable-languages=c,ada,c++,go,brig,d,fortran,objc,obj-c++ --prefix=/usr --with-gcc-major-version-only --program-suffix=-7 --program-prefix=x86_64-linux-gnu- --enable-shared --enable-linker-build-id --libexecdir=/usr/lib --without-included-gettext --enable-threads=posix --libdir=/usr/lib --enable-nls --enable-bootstrap --enable-clocale=gnu --enable-libstdcxx-debug --enable-libstdcxx-time=yes --with-default-libstdcxx-abi=new --enable-gnu-unique-object --disable-vtable-verify --enable-libmpx --enable-plugin --enable-default-pie --with-system-zlib --with-target-system-zlib --enable-objc-gc=auto --enable-multiarch --disable-werror --with-arch-32=i686 --with-abi=m64 --with-multilib-list=m32,m64,mx32 --enable-multilib --with-tune=generic --enable-offload-targets=nvptx-none --without-cuda-driver --enable-checking=release --build=x86_64-linux-gnu --host=x86_64-linux-gnu --target=x86_64-linux-gnu\n",
            "Thread model: posix\n",
            "gcc version 7.5.0 (Ubuntu 7.5.0-3ubuntu1~18.04) \n",
            "--2022-06-20 09:01:58--  http://rtwilson.com/downloads/6SV-1.1.tar\n",
            "Resolving rtwilson.com (rtwilson.com)... 173.236.224.184\n",
            "Connecting to rtwilson.com (rtwilson.com)|173.236.224.184|:80... connected.\n",
            "HTTP request sent, awaiting response... 200 OK\n",
            "Length: 4075520 (3.9M) [application/x-tar]\n",
            "Saving to: ‘6SV-1.1.tar’\n",
            "\n",
            "6SV-1.1.tar         100%[===================>]   3.89M  --.-KB/s    in 0.1s    \n",
            "\n",
            "2022-06-20 09:01:59 (29.8 MB/s) - ‘6SV-1.1.tar’ saved [4075520/4075520]\n",
            "\n"
          ]
        }
      ]
    },
    {
      "cell_type": "code",
      "source": [
        "!tar xvf 6SV-1.1.tar"
      ],
      "metadata": {
        "id": "zmPx9ipGYSgk"
      },
      "execution_count": null,
      "outputs": []
    },
    {
      "cell_type": "code",
      "source": [
        "# 进入Makefile路径并编译\n",
        "import os \n",
        "os.chdir(\"/content/drive/MyDrive/Graduationproject/6SV1.1\")\n",
        "!make \n",
        "# 修改环境变量\n",
        "os.environ[\"PATH\"]=\"/content/drive/MyDrive/Graduationproject/6SV1.1:\"+os.environ[\"PATH\"]\n",
        "# # 测试\n",
        "# !sixsV1.1 < /content/Examples/Example_In_1.txt"
      ],
      "metadata": {
        "colab": {
          "base_uri": "https://localhost:8080/"
        },
        "id": "vumCP7CuYcaT",
        "outputId": "ac946ae6-6396-421d-e10d-ced4ce68148f"
      },
      "execution_count": null,
      "outputs": [
        {
          "output_type": "stream",
          "name": "stdout",
          "text": [
            "gfortran -std=legacy -ffixed-line-length-none -ffpe-summary=none -O -O  -c -o AATSR.o AATSR.f\n",
            "gfortran -std=legacy -ffixed-line-length-none -ffpe-summary=none -O -O  -c -o ABSTRA.o ABSTRA.f\n",
            "gfortran -std=legacy -ffixed-line-length-none -ffpe-summary=none -O -O  -c -o AEROSO.o AEROSO.f\n",
            "gfortran -std=legacy -ffixed-line-length-none -ffpe-summary=none -O -O  -c -o AKTOOL.o AKTOOL.f\n",
            "\u001b[01m\u001b[KAKTOOL.f:1570:16:\u001b[m\u001b[K\n",
            "\n",
            "       call dakg(uu, aa, n)\n",
            "                \u001b[01;35m\u001b[K1\u001b[m\u001b[K\n",
            "\u001b[01;35m\u001b[KWarning:\u001b[m\u001b[K Actual argument contains too few elements for dummy argument ‘\u001b[01m\u001b[Ku\u001b[m\u001b[K’ (20/48) at (1) [\u001b[01;35m\u001b[K-Wargument-mismatch\u001b[m\u001b[K]\n",
            "\u001b[01m\u001b[KAKTOOL.f:1579:16:\u001b[m\u001b[K\n",
            "\n",
            "       call dakg(uu, aa, n)\n",
            "                \u001b[01;35m\u001b[K1\u001b[m\u001b[K\n",
            "\u001b[01;35m\u001b[KWarning:\u001b[m\u001b[K Actual argument contains too few elements for dummy argument ‘\u001b[01m\u001b[Ku\u001b[m\u001b[K’ (20/48) at (1) [\u001b[01;35m\u001b[K-Wargument-mismatch\u001b[m\u001b[K]\n",
            "gfortran -std=legacy -ffixed-line-length-none -ffpe-summary=none -O -O  -c -o ATMREF.o ATMREF.f\n",
            "gfortran -std=legacy -ffixed-line-length-none -ffpe-summary=none -O -O  -c -o AVHRR.o AVHRR.f\n",
            "gfortran -std=legacy -ffixed-line-length-none -ffpe-summary=none -O -O  -c -o BBM.o BBM.f\n",
            "gfortran -std=legacy -ffixed-line-length-none -ffpe-summary=none -O -O  -c -o BDM.o BDM.f\n",
            "gfortran -std=legacy -ffixed-line-length-none -ffpe-summary=none -O -O  -c -o BRDFGRID.o BRDFGRID.f\n",
            "gfortran -std=legacy -ffixed-line-length-none -ffpe-summary=none -O -O  -c -o CHAND.o CHAND.f\n",
            "gfortran -std=legacy -ffixed-line-length-none -ffpe-summary=none -O -O  -c -o CLEARW.o CLEARW.f\n",
            "gfortran -std=legacy -ffixed-line-length-none -ffpe-summary=none -O -O  -c -o CSALBR.o CSALBR.f\n",
            "gfortran -std=legacy -ffixed-line-length-none -ffpe-summary=none -O -O  -c -o DICA1.o DICA1.f\n",
            "gfortran -std=legacy -ffixed-line-length-none -ffpe-summary=none -O -O  -c -o DICA2.o DICA2.f\n",
            "gfortran -std=legacy -ffixed-line-length-none -ffpe-summary=none -O -O  -c -o DICA3.o DICA3.f\n",
            "gfortran -std=legacy -ffixed-line-length-none -ffpe-summary=none -O -O  -c -o DISCOM.o DISCOM.f\n",
            "gfortran -std=legacy -ffixed-line-length-none -ffpe-summary=none -O -O  -c -o DISCRE.o DISCRE.f\n",
            "gfortran -std=legacy -ffixed-line-length-none -ffpe-summary=none -O -O  -c -o DUST.o DUST.f\n",
            "gfortran -std=legacy -ffixed-line-length-none -ffpe-summary=none -O -O  -c -o ENVIRO.o ENVIRO.f\n",
            "gfortran -std=legacy -ffixed-line-length-none -ffpe-summary=none -O -O  -c -o EQUIVWL.o EQUIVWL.f\n",
            "gfortran -std=legacy -ffixed-line-length-none -ffpe-summary=none -O -O  -c -o GAUSS.o GAUSS.f\n",
            "gfortran -std=legacy -ffixed-line-length-none -ffpe-summary=none -O -O  -c -o GLI.o GLI.f\n",
            "gfortran -std=legacy -ffixed-line-length-none -ffpe-summary=none -O -O  -c -o GOES.o GOES.f\n",
            "gfortran -std=legacy -ffixed-line-length-none -ffpe-summary=none -O -O  -c -o HAPKALBE.o HAPKALBE.f\n",
            "gfortran -std=legacy -ffixed-line-length-none -ffpe-summary=none -O -O  -c -o HAPKBRDF.o HAPKBRDF.f\n",
            "gfortran -std=legacy -ffixed-line-length-none -ffpe-summary=none -O -O  -c -o HRV.o HRV.f\n",
            "gfortran -std=legacy -ffixed-line-length-none -ffpe-summary=none -O -O  -c -o IAPIALBE.o IAPIALBE.f\n",
            "gfortran -std=legacy -ffixed-line-length-none -ffpe-summary=none -O -O  -c -o IAPIBRDF.o IAPIBRDF.f\n",
            "gfortran -std=legacy -ffixed-line-length-none -ffpe-summary=none -O -O  -c -o IAPITOOLS.o IAPITOOLS.f\n",
            "gfortran -std=legacy -ffixed-line-length-none -ffpe-summary=none -O -O  -c -o INTERP.o INTERP.f\n",
            "gfortran -std=legacy -ffixed-line-length-none -ffpe-summary=none -O -O  -c -o ISO.o ISO.f\n",
            "gfortran -std=legacy -ffixed-line-length-none -ffpe-summary=none -O -O  -c -o KERNEL.o KERNEL.f\n",
            "gfortran -std=legacy -ffixed-line-length-none -ffpe-summary=none -O -O  -c -o KERNELPOL.o KERNELPOL.f\n",
            "gfortran -std=legacy -ffixed-line-length-none -ffpe-summary=none -O -O  -c -o LAKEW.o LAKEW.f\n",
            "gfortran -std=legacy -ffixed-line-length-none -ffpe-summary=none -O -O  -c -o MAS.o MAS.f\n",
            "gfortran -std=legacy -ffixed-line-length-none -ffpe-summary=none -O -O  -c -o MERIS.o MERIS.f\n",
            "gfortran -std=legacy -ffixed-line-length-none -ffpe-summary=none -O -O  -c -o METEO.o METEO.f\n",
            "gfortran -std=legacy -ffixed-line-length-none -ffpe-summary=none -O -O  -c -o METH1.o METH1.f\n",
            "gfortran -std=legacy -ffixed-line-length-none -ffpe-summary=none -O -O  -c -o METH2.o METH2.f\n",
            "gfortran -std=legacy -ffixed-line-length-none -ffpe-summary=none -O -O  -c -o METH3.o METH3.f\n",
            "gfortran -std=legacy -ffixed-line-length-none -ffpe-summary=none -O -O  -c -o METH4.o METH4.f\n",
            "gfortran -std=legacy -ffixed-line-length-none -ffpe-summary=none -O -O  -c -o METH5.o METH5.f\n",
            "gfortran -std=legacy -ffixed-line-length-none -ffpe-summary=none -O -O  -c -o METH6.o METH6.f\n",
            "gfortran -std=legacy -ffixed-line-length-none -ffpe-summary=none -O -O  -c -o MIDSUM.o MIDSUM.f\n",
            "gfortran -std=legacy -ffixed-line-length-none -ffpe-summary=none -O -O  -c -o MIDWIN.o MIDWIN.f\n",
            "gfortran -std=legacy -ffixed-line-length-none -ffpe-summary=none -O -O  -c -o MIE.o MIE.f\n",
            "gfortran -std=legacy -ffixed-line-length-none -ffpe-summary=none -O -O  -c -o MINNALBE.o MINNALBE.f\n",
            "gfortran -std=legacy -ffixed-line-length-none -ffpe-summary=none -O -O  -c -o MINNBRDF.o MINNBRDF.f\n",
            "gfortran -std=legacy -ffixed-line-length-none -ffpe-summary=none -O -O  -c -o MOCA1.o MOCA1.f\n",
            "gfortran -std=legacy -ffixed-line-length-none -ffpe-summary=none -O -O  -c -o MOCA2.o MOCA2.f\n",
            "gfortran -std=legacy -ffixed-line-length-none -ffpe-summary=none -O -O  -c -o MOCA3.o MOCA3.f\n",
            "gfortran -std=legacy -ffixed-line-length-none -ffpe-summary=none -O -O  -c -o MOCA4.o MOCA4.f\n",
            "gfortran -std=legacy -ffixed-line-length-none -ffpe-summary=none -O -O  -c -o MOCA5.o MOCA5.f\n",
            "gfortran -std=legacy -ffixed-line-length-none -ffpe-summary=none -O -O  -c -o MOCA6.o MOCA6.f\n",
            "gfortran -std=legacy -ffixed-line-length-none -ffpe-summary=none -O -O  -c -o MODIS.o MODIS.f\n",
            "gfortran -std=legacy -ffixed-line-length-none -ffpe-summary=none -O -O  -c -o MSS.o MSS.f\n",
            "gfortran -std=legacy -ffixed-line-length-none -ffpe-summary=none -O -O  -c -o NIOX1.o NIOX1.f\n",
            "gfortran -std=legacy -ffixed-line-length-none -ffpe-summary=none -O -O  -c -o MODISBRDF.o MODISBRDF.f\n",
            "gfortran -std=legacy -ffixed-line-length-none -ffpe-summary=none -O -O  -c -o MODISALBE.o MODISALBE.f\n",
            "gfortran -std=legacy -ffixed-line-length-none -ffpe-summary=none -O -O  -c -o NIOX2.o NIOX2.f\n",
            "gfortran -std=legacy -ffixed-line-length-none -ffpe-summary=none -O -O  -c -o NIOX3.o NIOX3.f\n",
            "gfortran -std=legacy -ffixed-line-length-none -ffpe-summary=none -O -O  -c -o NIOX4.o NIOX4.f\n",
            "gfortran -std=legacy -ffixed-line-length-none -ffpe-summary=none -O -O  -c -o NIOX5.o NIOX5.f\n",
            "gfortran -std=legacy -ffixed-line-length-none -ffpe-summary=none -O -O  -c -o NIOX6.o NIOX6.f\n",
            "gfortran -std=legacy -ffixed-line-length-none -ffpe-summary=none -O -O  -c -o OCEA.o OCEA.f\n",
            "gfortran -std=legacy -ffixed-line-length-none -ffpe-summary=none -O -O  -c -o OCEAALBE.o OCEAALBE.f\n",
            "gfortran -std=legacy -ffixed-line-length-none -ffpe-summary=none -O -O  -c -o OCEABRDF.o OCEABRDF.f\n",
            "gfortran -std=legacy -ffixed-line-length-none -ffpe-summary=none -O -O  -c -o OCEABRDFFAST.o OCEABRDFFAST.f\n",
            "gfortran -std=legacy -ffixed-line-length-none -ffpe-summary=none -O -O  -c -o OCEATOOLS.o OCEATOOLS.f\n",
            "gfortran -std=legacy -ffixed-line-length-none -ffpe-summary=none -O -O  -c -o ODA550.o ODA550.f\n",
            "gfortran -std=legacy -ffixed-line-length-none -ffpe-summary=none -O -O  -c -o ODRAYL.o ODRAYL.f\n",
            "gfortran -std=legacy -ffixed-line-length-none -ffpe-summary=none -O -O  -c -o OS.o OS.f\n",
            "gfortran -std=legacy -ffixed-line-length-none -ffpe-summary=none -O -O  -c -o OSPOL.o OSPOL.f\n",
            "gfortran -std=legacy -ffixed-line-length-none -ffpe-summary=none -O -O  -c -o OXYG3.o OXYG3.f\n",
            "gfortran -std=legacy -ffixed-line-length-none -ffpe-summary=none -O -O  -c -o OXYG4.o OXYG4.f\n",
            "gfortran -std=legacy -ffixed-line-length-none -ffpe-summary=none -O -O  -c -o OXYG5.o OXYG5.f\n",
            "gfortran -std=legacy -ffixed-line-length-none -ffpe-summary=none -O -O  -c -o OXYG6.o OXYG6.f\n",
            "gfortran -std=legacy -ffixed-line-length-none -ffpe-summary=none -O -O  -c -o OZON1.o OZON1.f\n",
            "gfortran -std=legacy -ffixed-line-length-none -ffpe-summary=none -O -O  -c -o PLANPOL.o PLANPOL.f\n",
            "gfortran -std=legacy -ffixed-line-length-none -ffpe-summary=none -O -O  -c -o POLDER.o POLDER.f\n",
            "gfortran -std=legacy -ffixed-line-length-none -ffpe-summary=none -O -O  -c -o POSGE.o POSGE.f\n",
            "gfortran -std=legacy -ffixed-line-length-none -ffpe-summary=none -O -O  -c -o POSGW.o POSGW.f\n",
            "gfortran -std=legacy -ffixed-line-length-none -ffpe-summary=none -O -O  -c -o POSLAN.o POSLAN.f\n",
            "gfortran -std=legacy -ffixed-line-length-none -ffpe-summary=none -O -O  -c -o POSMTO.o POSMTO.f\n",
            "gfortran -std=legacy -ffixed-line-length-none -ffpe-summary=none -O -O  -c -o POSNOA.o POSNOA.f\n",
            "gfortran -std=legacy -ffixed-line-length-none -ffpe-summary=none -O -O  -c -o POSSOL.o POSSOL.f\n",
            "gfortran -std=legacy -ffixed-line-length-none -ffpe-summary=none -O -O  -c -o POSSPO.o POSSPO.f\n",
            "gfortran -std=legacy -ffixed-line-length-none -ffpe-summary=none -O -O  -c -o POLGLIT.o POLGLIT.f\n",
            "gfortran -std=legacy -ffixed-line-length-none -ffpe-summary=none -O -O  -c -o POLNAD.o POLNAD.f\n",
            "gfortran -std=legacy -ffixed-line-length-none -ffpe-summary=none -O -O  -c -o PRESPLANE.o PRESPLANE.f\n",
            "gfortran -std=legacy -ffixed-line-length-none -ffpe-summary=none -O -O  -c -o PRESSURE.o PRESSURE.f\n",
            "gfortran -std=legacy -ffixed-line-length-none -ffpe-summary=none -O -O  -c -o PRINT_ERROR.o PRINT_ERROR.f\n",
            "gfortran -std=legacy -ffixed-line-length-none -ffpe-summary=none -O -O  -c -o RAHMALBE.o RAHMALBE.f\n",
            "gfortran -std=legacy -ffixed-line-length-none -ffpe-summary=none -O -O  -c -o RAHMBRDF.o RAHMBRDF.f\n",
            "gfortran -std=legacy -ffixed-line-length-none -ffpe-summary=none -O -O  -c -o ROUJALBE.o ROUJALBE.f\n",
            "gfortran -std=legacy -ffixed-line-length-none -ffpe-summary=none -O -O  -c -o ROUJBRDF.o ROUJBRDF.f\n",
            "gfortran -std=legacy -ffixed-line-length-none -ffpe-summary=none -O -O  -c -o SAND.o SAND.f\n",
            "gfortran -std=legacy -ffixed-line-length-none -ffpe-summary=none -O -O  -c -o SCATRA.o SCATRA.f\n",
            "gfortran -std=legacy -ffixed-line-length-none -ffpe-summary=none -O -O  -c -o SEAWIFS.o SEAWIFS.f\n",
            "gfortran -std=legacy -ffixed-line-length-none -ffpe-summary=none -O -O  -c -o SOLIRR.o SOLIRR.f\n",
            "gfortran -std=legacy -ffixed-line-length-none -ffpe-summary=none -O -O  -c -o SOOT.o SOOT.f\n",
            "gfortran -std=legacy -ffixed-line-length-none -ffpe-summary=none -O -O  -c -o SPECINTERP.o SPECINTERP.f\n",
            "gfortran -std=legacy -ffixed-line-length-none -ffpe-summary=none -O -O  -c -o SPLIE2.o SPLIE2.f\n",
            "gfortran -std=legacy -ffixed-line-length-none -ffpe-summary=none -O -O  -c -o SPLIN2.o SPLIN2.f\n",
            "gfortran -std=legacy -ffixed-line-length-none -ffpe-summary=none -O -O  -c -o SPLINE.o SPLINE.f\n",
            "gfortran -std=legacy -ffixed-line-length-none -ffpe-summary=none -O -O  -c -o SPLINT.o SPLINT.f\n",
            "gfortran -std=legacy -ffixed-line-length-none -ffpe-summary=none -O -O  -c -o STM.o STM.f\n",
            "gfortran -std=legacy -ffixed-line-length-none -ffpe-summary=none -O -O  -c -o SUBSUM.o SUBSUM.f\n",
            "gfortran -std=legacy -ffixed-line-length-none -ffpe-summary=none -O -O  -c -o SUBWIN.o SUBWIN.f\n",
            "gfortran -std=legacy -ffixed-line-length-none -ffpe-summary=none -O -O  -c -o TM.o TM.f\n",
            "gfortran -std=legacy -ffixed-line-length-none -ffpe-summary=none -O -O  -c -o TROPIC.o TROPIC.f\n",
            "gfortran -std=legacy -ffixed-line-length-none -ffpe-summary=none -O -O  -c -o TRUNCA.o TRUNCA.f\n",
            "gfortran -std=legacy -ffixed-line-length-none -ffpe-summary=none -O -O  -c -o US62.o US62.f\n",
            "gfortran -std=legacy -ffixed-line-length-none -ffpe-summary=none -O -O  -c -o VARSOL.o VARSOL.f\n",
            "gfortran -std=legacy -ffixed-line-length-none -ffpe-summary=none -O -O  -c -o VEGETA.o VEGETA.f\n",
            "gfortran -std=legacy -ffixed-line-length-none -ffpe-summary=none -O -O  -c -o VERSALBE.o VERSALBE.f\n",
            "gfortran -std=legacy -ffixed-line-length-none -ffpe-summary=none -O -O  -c -o VERSBRDF.o VERSBRDF.f\n",
            "gfortran -std=legacy -ffixed-line-length-none -ffpe-summary=none -O -O  -c -o VERSTOOLS.o VERSTOOLS.f\n",
            "gfortran -std=legacy -ffixed-line-length-none -ffpe-summary=none -O -O  -c -o WALTALBE.o WALTALBE.f\n",
            "gfortran -std=legacy -ffixed-line-length-none -ffpe-summary=none -O -O  -c -o WALTBRDF.o WALTBRDF.f\n",
            "gfortran -std=legacy -ffixed-line-length-none -ffpe-summary=none -O -O  -c -o WATE.o WATE.f\n",
            "gfortran -std=legacy -ffixed-line-length-none -ffpe-summary=none -O -O  -c -o WAVA1.o WAVA1.f\n",
            "gfortran -std=legacy -ffixed-line-length-none -ffpe-summary=none -O -O  -c -o WAVA2.o WAVA2.f\n",
            "gfortran -std=legacy -ffixed-line-length-none -ffpe-summary=none -O -O  -c -o WAVA3.o WAVA3.f\n",
            "gfortran -std=legacy -ffixed-line-length-none -ffpe-summary=none -O -O  -c -o WAVA4.o WAVA4.f\n",
            "gfortran -std=legacy -ffixed-line-length-none -ffpe-summary=none -O -O  -c -o WAVA5.o WAVA5.f\n",
            "gfortran -std=legacy -ffixed-line-length-none -ffpe-summary=none -O -O  -c -o WAVA6.o WAVA6.f\n",
            "gfortran -std=legacy -ffixed-line-length-none -ffpe-summary=none -O -O  -c -o AEROPROF.o AEROPROF.f\n",
            "gfortran -std=legacy -ffixed-line-length-none -ffpe-summary=none -O -O  -c -o ALI.o ALI.f\n",
            "gfortran -std=legacy -ffixed-line-length-none -ffpe-summary=none -O -O  -c -o ASTER.o ASTER.f\n",
            "gfortran -std=legacy -ffixed-line-length-none -ffpe-summary=none -O -O  -c -o ETM.o ETM.f\n",
            "gfortran -std=legacy -ffixed-line-length-none -ffpe-summary=none -O -O  -c -o HYPBLUE.o HYPBLUE.f\n",
            "gfortran -std=legacy -ffixed-line-length-none -ffpe-summary=none -O -O  -c -o VGT.o VGT.f\n",
            "gfortran -std=legacy -ffixed-line-length-none -ffpe-summary=none -O -O  -c -o VIIRS.o VIIRS.f\n",
            "gfortran -std=legacy -ffixed-line-length-none -ffpe-summary=none -O -O  -c -o main.o main.f\n",
            "gfortran -std=legacy -ffixed-line-length-none -ffpe-summary=none -O  main.o  AATSR.o ABSTRA.o AEROSO.o AKTOOL.o ATMREF.o AVHRR.o BBM.o BDM.o BRDFGRID.o CHAND.o CLEARW.o CSALBR.o DICA1.o DICA2.o DICA3.o  DISCOM.o DISCRE.o DUST.o ENVIRO.o EQUIVWL.o GAUSS.o GLI.o GOES.o HAPKALBE.o HAPKBRDF.o HRV.o IAPIALBE.o IAPIBRDF.o IAPITOOLS.o INTERP.o ISO.o KERNEL.o KERNELPOL.o LAKEW.o MAS.o MERIS.o METEO.o METH1.o METH2.o METH3.o METH4.o METH5.o METH6.o MIDSUM.o MIDWIN.o MIE.o MINNALBE.o MINNBRDF.o MOCA1.o MOCA2.o MOCA3.o MOCA4.o MOCA5.o MOCA6.o MODIS.o MSS.o NIOX1.o MODISBRDF.o MODISALBE.o NIOX2.o NIOX3.o NIOX4.o NIOX5.o NIOX6.o OCEA.o OCEAALBE.o OCEABRDF.o OCEABRDFFAST.o OCEATOOLS.o ODA550.o ODRAYL.o OS.o OSPOL.o OXYG3.o OXYG4.o OXYG5.o OXYG6.o OZON1.o PLANPOL.o POLDER.o POSGE.o POSGW.o POSLAN.o POSMTO.o POSNOA.o POSSOL.o POSSPO.o POLGLIT.o POLNAD.o PRESPLANE.o PRESSURE.o PRINT_ERROR.o RAHMALBE.o RAHMBRDF.o ROUJALBE.o ROUJBRDF.o SAND.o SCATRA.o SEAWIFS.o SOLIRR.o SOOT.o SPECINTERP.o SPLIE2.o SPLIN2.o SPLINE.o SPLINT.o STM.o SUBSUM.o SUBWIN.o TM.o TROPIC.o TRUNCA.o US62.o VARSOL.o VEGETA.o VERSALBE.o VERSBRDF.o VERSTOOLS.o WALTALBE.o WALTBRDF.o WATE.o WAVA1.o WAVA2.o WAVA3.o WAVA4.o WAVA5.o WAVA6.o AEROPROF.o ALI.o ASTER.o ETM.o HYPBLUE.o VGT.o VIIRS.o -o sixsV1.1  -lm\n"
          ]
        }
      ]
    },
    {
      "cell_type": "markdown",
      "source": [
        "相关数据上传"
      ],
      "metadata": {
        "id": "jD6ocKvNWw1Y"
      }
    },
    {
      "cell_type": "code",
      "source": [
        "uploaded = files.upload()"
      ],
      "metadata": {
        "colab": {
          "resources": {
            "http://localhost:8080/nbextensions/google.colab/files.js": {
              "data": "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",
              "ok": true,
              "headers": [
                [
                  "content-type",
                  "application/javascript"
                ]
              ],
              "status": 200,
              "status_text": ""
            }
          },
          "base_uri": "https://localhost:8080/",
          "height": 40
        },
        "id": "Zf5hJvT3WudD",
        "outputId": "1c86f638-9eb4-40c0-ea65-ce8803ece5d6"
      },
      "execution_count": null,
      "outputs": [
        {
          "output_type": "display_data",
          "data": {
            "text/plain": [
              "<IPython.core.display.HTML object>"
            ],
            "text/html": [
              "\n",
              "     <input type=\"file\" id=\"files-7864cc5c-0e70-4193-951a-0a9a681d83c0\" name=\"files[]\" multiple disabled\n",
              "        style=\"border:none\" />\n",
              "     <output id=\"result-7864cc5c-0e70-4193-951a-0a9a681d83c0\">\n",
              "      Upload widget is only available when the cell has been executed in the\n",
              "      current browser session. Please rerun this cell to enable.\n",
              "      </output>\n",
              "      <script src=\"/nbextensions/google.colab/files.js\"></script> "
            ]
          },
          "metadata": {}
        }
      ]
    },
    {
      "cell_type": "code",
      "source": [
        "os.chdir(\"/content/drive/MyDrive/Graduationproject\")\n",
        "import ee\n",
        "from Py6S import *\n",
        "import datetime\n",
        "import math\n",
        "import os\n",
        "import sys\n",
        "sys.path.append(os.path.join(os.path.dirname(os.getcwd()),'bin'))\n",
        "\n",
        "# %load atmospheric.py\n",
        "\n",
        "from atmospheric import Atmospheric\n",
        "\n",
        "ee.Initialize()\n",
        "\n",
        "date = ee.Date('2017-01-01')\n",
        "geom = ee.Geometry.Point(-157.816222, 21.297481)\n",
        "geom = ee.Geometry.Point(12.670733, 41.826685)# ESRIN (ESA Earth Observation Centre)\n",
        "\n",
        "# The first Sentinel 2 image\n",
        "S2 = ee.Image(\n",
        "  ee.ImageCollection('COPERNICUS/S2')\n",
        "    .filterBounds(geom)\n",
        "    .filterDate(date,date.advance(3,'month'))\n",
        "    .sort('system:time_start')\n",
        "    .first()\n",
        "  )\n",
        "\n",
        "# top of atmosphere reflectance\n",
        "toa = S2.divide(10000)\n",
        "\n",
        "info = S2.getInfo()['properties']\n",
        "scene_date = datetime.datetime.utcfromtimestamp(info['system:time_start']/1000)# i.e. Python uses seconds, EE uses milliseconds\n",
        "solar_z = info['MEAN_SOLAR_ZENITH_ANGLE']\n",
        "\n",
        "\n",
        "h2o = Atmospheric.water(geom,date).getInfo()\n",
        "o3 = Atmospheric.ozone(geom,date).getInfo()\n",
        "aot = Atmospheric.aerosol(geom,date).getInfo()\n",
        "\n",
        "SRTM = ee.Image('CGIAR/SRTM90_V4')# Shuttle Radar Topography mission covers *most* of the Earth\n",
        "alt = SRTM.reduceRegion(reducer = ee.Reducer.mean(),geometry = geom.centroid()).get('elevation').getInfo()\n",
        "km = alt/1000 # i.e. Py6S uses units of kilometers\n",
        "\n",
        "# Instantiate\n",
        "s = SixS()\n",
        "\n",
        "# Atmospheric constituents\n",
        "s.atmos_profile = AtmosProfile.UserWaterAndOzone(h2o,o3)\n",
        "s.aero_profile = AeroProfile.Continental\n",
        "s.aot550 = aot\n",
        "\n",
        "# Earth-Sun-satellite geometry\n",
        "s.geometry = Geometry.User()\n",
        "s.geometry.view_z = 0               # always NADIR (I think..)\n",
        "s.geometry.solar_z = solar_z        # solar zenith angle\n",
        "s.geometry.month = scene_date.month # month and day used for Earth-Sun distance\n",
        "s.geometry.day = scene_date.day     # month and day used for Earth-Sun distance\n",
        "s.altitudes.set_sensor_satellite_level()\n",
        "s.altitudes.set_target_custom_altitude(km)\n",
        "\n",
        "def spectralResponseFunction(bandname):\n",
        "    \"\"\"\n",
        "    Extract spectral response function for given band name\n",
        "    \"\"\"\n",
        "    bandSelect = {\n",
        "        'B1':PredefinedWavelengths.S2A_MSI_01,\n",
        "        'B2':PredefinedWavelengths.S2A_MSI_02,\n",
        "        'B3':PredefinedWavelengths.S2A_MSI_03,\n",
        "        'B4':PredefinedWavelengths.S2A_MSI_04,\n",
        "        'B5':PredefinedWavelengths.S2A_MSI_05,\n",
        "        'B6':PredefinedWavelengths.S2A_MSI_06,\n",
        "        'B7':PredefinedWavelengths.S2A_MSI_07,\n",
        "        'B8':PredefinedWavelengths.S2A_MSI_08,\n",
        "        'B8A':PredefinedWavelengths.S2A_MSI_8A,\n",
        "        'B9':PredefinedWavelengths.S2A_MSI_09,\n",
        "        'B10':PredefinedWavelengths.S2A_MSI_10,\n",
        "        'B11':PredefinedWavelengths.S2A_MSI_11,\n",
        "        'B12':PredefinedWavelengths.S2A_MSI_12,\n",
        "        }\n",
        "    return Wavelength(bandSelect[bandname])\n",
        "\n",
        "def toa_to_rad(bandname):\n",
        "    \"\"\"\n",
        "    Converts top of atmosphere reflectance to at-sensor radiance\n",
        "    \"\"\"\n",
        "    \n",
        "    # solar exoatmospheric spectral irradiance\n",
        "    ESUN = info['SOLAR_IRRADIANCE_'+bandname]\n",
        "    solar_angle_correction = math.cos(math.radians(solar_z))\n",
        "    \n",
        "    # Earth-Sun distance (from day of year)\n",
        "    doy = scene_date.timetuple().tm_yday\n",
        "    d = 1 - 0.01672 * math.cos(0.9856 * (doy-4))# http://physics.stackexchange.com/questions/177949/earth-sun-distance-on-a-given-day-of-the-year\n",
        "   \n",
        "    # conversion factor\n",
        "    multiplier = ESUN*solar_angle_correction/(math.pi*d**2)\n",
        "\n",
        "    # at-sensor radiance\n",
        "    rad = toa.select(bandname).multiply(multiplier)\n",
        "    \n",
        "    return rad\n",
        "\n",
        "def surface_reflectance(bandname):\n",
        "    \"\"\"\n",
        "    Calculate surface reflectance from at-sensor radiance given waveband name\n",
        "    \"\"\"\n",
        "    \n",
        "    # run 6S for this waveband\n",
        "    s.wavelength = spectralResponseFunction(bandname)\n",
        "    s.run()\n",
        "    \n",
        "    # extract 6S outputs\n",
        "    Edir = s.outputs.direct_solar_irradiance             #direct solar irradiance\n",
        "    Edif = s.outputs.diffuse_solar_irradiance            #diffuse solar irradiance\n",
        "    Lp   = s.outputs.atmospheric_intrinsic_radiance      #path radiance\n",
        "    absorb  = s.outputs.trans['global_gas'].upward       #absorption transmissivity\n",
        "    scatter = s.outputs.trans['total_scattering'].upward #scattering transmissivity\n",
        "    tau2 = absorb*scatter                                #total transmissivity\n",
        "    \n",
        "    # radiance to surface reflectance\n",
        "    rad = toa_to_rad(bandname)\n",
        "    ref = rad.subtract(Lp).multiply(math.pi).divide(tau2*(Edir+Edif))\n",
        "    \n",
        "    return ref\n",
        "\n",
        "# surface reflectance rgb\n",
        "b = surface_reflectance('B2')\n",
        "g = surface_reflectance('B3')\n",
        "r = surface_reflectance('B4')\n",
        "ref = r.addBands(g).addBands(b)\n",
        "\n",
        "# # all wavebands\n",
        "# output = S2.select('QA60')\n",
        "# for band in ['B1','B2','B3','B4','B5','B6','B7','B8','B8A','B9','B10','B11','B12']:\n",
        "#     print(band)\n",
        "#     output = output.addBands(surface_reflectance(band))\n",
        "\n",
        "from IPython.display import display, Image\n",
        "\n",
        "region = geom.buffer(5000).bounds().getInfo()['coordinates']\n",
        "channels = ['B4','B3','B2']\n",
        "\n",
        "original = Image(url=toa.select(channels).getThumbUrl({\n",
        "                'region':region,\n",
        "                'min':0,\n",
        "                'max':0.25\n",
        "                }))\n",
        "\n",
        "corrected = Image(url=ref.select(channels).getThumbUrl({\n",
        "                'region':region,\n",
        "                'min':0,\n",
        "                'max':0.25\n",
        "                }))\n",
        "\n",
        "display(original, corrected)\n",
        "\n",
        "# # set some properties for export\n",
        "# dateString = scene_date.strftime(\"%Y-%m-%d\")\n",
        "# ref = ref.set({'satellite':'Sentinel 2',\n",
        "#               'fileID':info['system:index'],\n",
        "#               'date':dateString,\n",
        "#               'aerosol_optical_thickness':aot,\n",
        "#               'water_vapour':h2o,\n",
        "#               'ozone':o3})\n",
        "\n",
        "# define YOUR assetID \n",
        "# in my case it was something like this..\n",
        "# assetID = 'users/samsammurphy/shared/sentinel2/6S/ESRIN_'+dateString\n",
        "\n",
        "# # export\n",
        "# export = ee.batch.Export.image.toAsset(\\\n",
        "#     image=ref,\n",
        "#     description='sentinel2_atmcorr_export',\n",
        "#     assetId = assetID,\n",
        "#     region = region,\n",
        "#     scale = 30)\n",
        "\n",
        "# # uncomment to run the export\n",
        "# export.start() "
      ],
      "metadata": {
        "colab": {
          "base_uri": "https://localhost:8080/",
          "height": 1000
        },
        "id": "Zm0WpmpPTlWy",
        "outputId": "1082d964-ca51-4e72-bfdd-35875c5e84a0"
      },
      "execution_count": null,
      "outputs": [
        {
          "output_type": "display_data",
          "data": {
            "text/plain": [
              "<IPython.core.display.Image object>"
            ],
            "text/html": [
              "<img src=\"https://earthengine.googleapis.com/v1alpha/projects/earthengine-legacy/thumbnails/bcf58efa15d6a34c803649f46814a797-5d2162bbf7f55030a007261e79b95d26:getPixels\"/>"
            ]
          },
          "metadata": {}
        },
        {
          "output_type": "display_data",
          "data": {
            "text/plain": [
              "<IPython.core.display.Image object>"
            ],
            "text/html": [
              "<img src=\"https://earthengine.googleapis.com/v1alpha/projects/earthengine-legacy/thumbnails/d60f0d4499148959e9cbe000d265a825-5a71fa3ebb12b8259d442c24d60ba5b3:getPixels\"/>"
            ]
          },
          "metadata": {}
        }
      ]
    },
    {
      "cell_type": "markdown",
      "source": [
        "**L5 波段**\n",
        "\n",
        "B1\t30米\t0.45 - 0.52 微米\t蓝色的\n",
        "\n",
        "B2\t30米\t0.52 - 0.60 微米\t绿色的\n",
        "\n",
        "B3\t30米\t0.63 - 0.69 微米\t红色的\n",
        "\n",
        "B4\t30米\t0.76 - 0.90 微米\t近红外\n",
        "\n",
        "B5\t30米\t1.55 - 1.75 微米\t短波红外线 1\n",
        "\n",
        "B6\t30米\t10.40 - 12.50 微米\t热红外 1. 从 60m 到 30m 重新采样。\n",
        "\n",
        "B7\t30米\t2.08 - 2.35 微米\t短波红外线 2\n",
        "\n",
        "**L8 波段**\n",
        "\n",
        "B1\t30米\t0.43 - 0.45 微米\t沿海气溶胶\n",
        "\n",
        "B2\t30米\t0.45 - 0.51 微米\t蓝色的\n",
        "\n",
        "B3\t30米\t0.53 - 0.59 微米\t绿色的\n",
        "\n",
        "B4\t30米\t0.64 - 0.67 微米\t红色的\n",
        "\n",
        "B5\t30米\t0.85 - 0.88 微米\t近红外\n",
        "\n",
        "B6\t30米\t1.57 - 1.65 微米\t短波红外线 1\n",
        "\n",
        "B7\t30米\t2.11 - 2.29 微米\t短波红外线 2\n",
        "\n",
        "B8\t15米\t0.52 - 0.90 微米\t带 8 全色\n",
        "\n",
        "B9\t15米\t1.36 - 1.38 微米\t卷云\n",
        "\n",
        "B10\t30米\t10.60 - 11.19 微米\t热红外 1，从 100m 到 30m 重新采样\n",
        "\n",
        "B11\t30米\t11.50 - 12.51 微米\t热红外 2，从 100m 重新采样到 30m"
      ],
      "metadata": {
        "id": "XEP9uHnsGI1q"
      }
    },
    {
      "cell_type": "code",
      "source": [
        "#云的覆盖率选择\n",
        "cloud = 20\n",
        "\n",
        "# pointList = pd.read_csv(io.StringIO(uploaded['output1.csv'].decode('utf-8')))\n",
        "# print(pointList[\"LatitudeMeasure\"][0])\n",
        "# print(pointList[\"LongitudeMeasure\"][0])\n",
        "# print(len(pointList))\n",
        "\n",
        "# l5 = ee.ImageCollection(\"LANDSAT/LT05/C01/T1\") //1984-03 → 2012-05 \n",
        "# l8 = ee.ImageCollection(\"LANDSAT/LC08/C01/T1\") //2013-04 → now\n",
        "\n",
        "\n",
        "from ipygee import Map \n",
        "myMap = Map() \n",
        "# 展示OSM底图 \n",
        "myMap.show() \n",
        "\n",
        "# roi = ee.Geometry.Point([-98.96484375, 39.16414104768743]);\n",
        "# l5 = ee.ImageCollection(\"LANDSAT/LT05/C01/T1\")\n",
        "# # l8 = ee.ImageCollection(\"LANDSAT/LC08/C01/T1\")\n",
        "# l8 = ee.ImageCollection(\"LANDSAT/LC08/C02/T1\")\n",
        "\n",
        "# rawCol = l8.filterDate(\"2018-01-01\", \"2019-06-01\").filterBounds(roi);\n",
        "# # rawCol = l5.filterDate(\"1990-1-1\", \"1990-6-1\").filterBounds(roi);\n",
        "       \n",
        "# sCol = rawCol.toList(1);\n",
        "# num = sCol.size();\n",
        "# cnum = num.getInfo();\n",
        "# for i in range(0, cnum):\n",
        "#   img = ee.Image(sCol.get(i));\n",
        "#   # print(img)\n",
        "#   myMap.addLayer(img, {\"bands\":[\"B4\", \"B3\", \"B2\"], \"min\":0, \"max\":0.3}, \"layer-\"+str(i))\n",
        "\n",
        "roi = ee.Geometry.Point([6.746, 46.529]);\n",
        "image = ee.ImageCollection('LANDSAT/LC08/C02/T1').filterDate('2017-01-01', '2017-12-31').filterBounds(roi).first();\n",
        "# image = ee.ImageCollection(\"LANDSAT/LT05/C01/T1\").filterDate('1990-01-01', '1990-12-31').filterBounds(roi).first();\n",
        "\n",
        "myMap.centerObject(roi, 6);\n",
        "# min,max设置阈值,超过max的像素值设置为白，小于min的设置为黑\n",
        "# l8 0 10000-30000\n",
        "area = {\"min\": 0, \"max\": 65535, \"bands\":[\"B4\", \"B3\", \"B2\"]}\n",
        "# l5 100-500\n",
        "# area = {\"min\": 0, \"max\": 255}\n",
        "myMap.addLayer(image, area, name=\"image\") \n",
        "bandList = ee.List(ee.Dictionary(ee.Algorithms.Describe(image)).get('bands'));\n",
        "b1 = ee.Dictionary(bandList.get(0))\n",
        "# print(image.bandNames)\n",
        "mean = image.reduceRegion(**{\n",
        "  \"reducer\": ee.Reducer.mean(),\n",
        "  \"geometry\":roi,\n",
        "  \"scale\": 30,\n",
        "  \"maxPixels\": 1e13\n",
        "});\n",
        "print(mean.getInfo())\n",
        "# b1_proj = image.select('B1').projection()\n",
        "# print('Band 1 projection:', b1_proj.getInfo())\n",
        "# print(mean.getNumber(\"B1\"));\n",
        "# myMap.addLayer(trueColor432, trueColor432Vis, 'True Color (432)');"
      ],
      "metadata": {
        "colab": {
          "base_uri": "https://localhost:8080/",
          "height": 395
        },
        "id": "3a078QHjYukY",
        "outputId": "d35da6b5-b7ad-480d-9b14-aaa2d3f71dd6"
      },
      "execution_count": null,
      "outputs": [
        {
          "output_type": "error",
          "ename": "ModuleNotFoundError",
          "evalue": "ignored",
          "traceback": [
            "\u001b[0;31m---------------------------------------------------------------------------\u001b[0m",
            "\u001b[0;31mModuleNotFoundError\u001b[0m                       Traceback (most recent call last)",
            "\u001b[0;32m<ipython-input-1-884ab6f6c20b>\u001b[0m in \u001b[0;36m<module>\u001b[0;34m()\u001b[0m\n\u001b[1;32m     11\u001b[0m \u001b[0;34m\u001b[0m\u001b[0m\n\u001b[1;32m     12\u001b[0m \u001b[0;34m\u001b[0m\u001b[0m\n\u001b[0;32m---> 13\u001b[0;31m \u001b[0;32mfrom\u001b[0m \u001b[0mipygee\u001b[0m \u001b[0;32mimport\u001b[0m \u001b[0mMap\u001b[0m\u001b[0;34m\u001b[0m\u001b[0;34m\u001b[0m\u001b[0m\n\u001b[0m\u001b[1;32m     14\u001b[0m \u001b[0mmyMap\u001b[0m \u001b[0;34m=\u001b[0m \u001b[0mMap\u001b[0m\u001b[0;34m(\u001b[0m\u001b[0;34m)\u001b[0m\u001b[0;34m\u001b[0m\u001b[0;34m\u001b[0m\u001b[0m\n\u001b[1;32m     15\u001b[0m \u001b[0;31m# 展示OSM底图\u001b[0m\u001b[0;34m\u001b[0m\u001b[0;34m\u001b[0m\u001b[0;34m\u001b[0m\u001b[0m\n",
            "\u001b[0;31mModuleNotFoundError\u001b[0m: No module named 'ipygee'",
            "",
            "\u001b[0;31m---------------------------------------------------------------------------\u001b[0;32m\nNOTE: If your import is failing due to a missing package, you can\nmanually install dependencies using either !pip or !apt.\n\nTo view examples of installing some common dependencies, click the\n\"Open Examples\" button below.\n\u001b[0;31m---------------------------------------------------------------------------\u001b[0m\n"
          ],
          "errorDetails": {
            "actions": [
              {
                "action": "open_url",
                "actionText": "Open Examples",
                "url": "/notebooks/snippets/importing_libraries.ipynb"
              }
            ]
          }
        }
      ]
    },
    {
      "cell_type": "code",
      "source": [
        "\n",
        "toa = ee.Algorithms.Landsat.TOA(image)\n",
        "print(toa.getInfo())"
      ],
      "metadata": {
        "colab": {
          "base_uri": "https://localhost:8080/"
        },
        "id": "EF4eqA5l9HBE",
        "outputId": "eee02623-34de-4683-fb14-ff5a64e56bdc"
      },
      "execution_count": null,
      "outputs": [
        {
          "output_type": "stream",
          "name": "stdout",
          "text": [
            "{'type': 'Image', 'bands': [{'id': 'B1', 'data_type': {'type': 'PixelType', 'precision': 'float'}, 'dimensions': [7911, 8021], 'crs': 'EPSG:32632', 'crs_transform': [30, 0, 258285, 0, -30, 5218515]}, {'id': 'B2', 'data_type': {'type': 'PixelType', 'precision': 'float'}, 'dimensions': [7911, 8021], 'crs': 'EPSG:32632', 'crs_transform': [30, 0, 258285, 0, -30, 5218515]}, {'id': 'B3', 'data_type': {'type': 'PixelType', 'precision': 'float'}, 'dimensions': [7911, 8021], 'crs': 'EPSG:32632', 'crs_transform': [30, 0, 258285, 0, -30, 5218515]}, {'id': 'B4', 'data_type': {'type': 'PixelType', 'precision': 'float'}, 'dimensions': [7911, 8021], 'crs': 'EPSG:32632', 'crs_transform': [30, 0, 258285, 0, -30, 5218515]}, {'id': 'B5', 'data_type': {'type': 'PixelType', 'precision': 'float'}, 'dimensions': [7911, 8021], 'crs': 'EPSG:32632', 'crs_transform': [30, 0, 258285, 0, -30, 5218515]}, {'id': 'B6', 'data_type': {'type': 'PixelType', 'precision': 'float'}, 'dimensions': [7911, 8021], 'crs': 'EPSG:32632', 'crs_transform': [30, 0, 258285, 0, -30, 5218515]}, {'id': 'B7', 'data_type': {'type': 'PixelType', 'precision': 'float'}, 'dimensions': [7911, 8021], 'crs': 'EPSG:32632', 'crs_transform': [30, 0, 258285, 0, -30, 5218515]}, {'id': 'B8', 'data_type': {'type': 'PixelType', 'precision': 'float'}, 'dimensions': [15821, 16041], 'crs': 'EPSG:32632', 'crs_transform': [15, 0, 258292.5, 0, -15, 5218507.5]}, {'id': 'B9', 'data_type': {'type': 'PixelType', 'precision': 'float'}, 'dimensions': [7911, 8021], 'crs': 'EPSG:32632', 'crs_transform': [30, 0, 258285, 0, -30, 5218515]}, {'id': 'B10', 'data_type': {'type': 'PixelType', 'precision': 'float'}, 'dimensions': [7911, 8021], 'crs': 'EPSG:32632', 'crs_transform': [30, 0, 258285, 0, -30, 5218515]}, {'id': 'B11', 'data_type': {'type': 'PixelType', 'precision': 'float'}, 'dimensions': [7911, 8021], 'crs': 'EPSG:32632', 'crs_transform': [30, 0, 258285, 0, -30, 5218515]}, {'id': 'QA_PIXEL', 'data_type': {'type': 'PixelType', 'precision': 'int', 'min': 0, 'max': 65535}, 'dimensions': [7911, 8021], 'crs': 'EPSG:32632', 'crs_transform': [30, 0, 258285, 0, -30, 5218515]}, {'id': 'QA_RADSAT', 'data_type': {'type': 'PixelType', 'precision': 'int', 'min': 0, 'max': 65535}, 'dimensions': [7911, 8021], 'crs': 'EPSG:32632', 'crs_transform': [30, 0, 258285, 0, -30, 5218515]}, {'id': 'SAA', 'data_type': {'type': 'PixelType', 'precision': 'int', 'min': -32768, 'max': 32767}, 'dimensions': [7911, 8021], 'crs': 'EPSG:32632', 'crs_transform': [30, 0, 258285, 0, -30, 5218515]}, {'id': 'SZA', 'data_type': {'type': 'PixelType', 'precision': 'int', 'min': -32768, 'max': 32767}, 'dimensions': [7911, 8021], 'crs': 'EPSG:32632', 'crs_transform': [30, 0, 258285, 0, -30, 5218515]}, {'id': 'VAA', 'data_type': {'type': 'PixelType', 'precision': 'int', 'min': -32768, 'max': 32767}, 'dimensions': [7911, 8021], 'crs': 'EPSG:32632', 'crs_transform': [30, 0, 258285, 0, -30, 5218515]}, {'id': 'VZA', 'data_type': {'type': 'PixelType', 'precision': 'int', 'min': -32768, 'max': 32767}, 'dimensions': [7911, 8021], 'crs': 'EPSG:32632', 'crs_transform': [30, 0, 258285, 0, -30, 5218515]}], 'id': 'LANDSAT/LC08/C02/T1/LC08_195028_20170107', 'version': 1637582567705506, 'properties': {'RADIANCE_MULT_BAND_5': 0.0063229, 'RADIANCE_MULT_BAND_6': 0.0015724, 'RADIANCE_MULT_BAND_3': 0.012253, 'RADIANCE_MULT_BAND_4': 0.010332, 'RADIANCE_MULT_BAND_1': 0.012985, 'RADIANCE_MULT_BAND_2': 0.013297, 'WRS_TYPE': 2, 'K2_CONSTANT_BAND_11': 1201.1442, 'K2_CONSTANT_BAND_10': 1321.0789, 'system:footprint': {'type': 'LinearRing', 'coordinates': [[6.230833837813625, 45.327048414935675], [7.234408549003164, 45.14809194036006], [8.270726773736948, 44.95273312659474], [8.347218980279335, 45.15161526643808], [8.427440758044062, 45.35943276859633], [8.593255236462099, 45.78503705230897], [8.670621411323324, 45.98157843247161], [8.736716048870345, 46.14856565411772], [8.849490044048059, 46.43353069803341], [8.931229438412094, 46.64460526204009], [8.93575441065075, 46.65845880088923], [7.971899919989747, 46.837387870423846], [6.5130852144562725, 47.090591335324824], [6.5118726968146365, 47.0878157070455], [6.375114099556554, 46.70549469297645], [6.240167625325407, 46.32303163239209], [6.106976725310856, 45.94042974387777], [5.959777491182301, 45.511624258013065], [5.91674359931716, 45.38100711713269], [5.972350949223193, 45.37152215588451], [6.230833837813625, 45.327048414935675]]}, 'REFLECTIVE_SAMPLES': 7911, 'SUN_AZIMUTH': 160.51148518, 'DATA_SOURCE_TIRS_STRAY_LIGHT_CORRECTION': 'TIRS', 'DATE_ACQUIRED': '2017-01-07', 'ELLIPSOID': 'WGS84', 'STATION_ID': 'LGN', 'RESAMPLING_OPTION': 'CUBIC_CONVOLUTION', 'ORIENTATION': 'NORTH_UP', 'WRS_ROW': 28, 'RADIANCE_MULT_BAND_9': 0.0024711, 'TARGET_WRS_ROW': 28, 'RADIANCE_MULT_BAND_7': 0.00053, 'RADIANCE_MULT_BAND_8': 0.011693, 'IMAGE_QUALITY_TIRS': 9, 'TRUNCATION_OLI': 'UPPER', 'CLOUD_COVER': 19.77, 'GEOMETRIC_RMSE_VERIFY': 9.334, 'COLLECTION_CATEGORY': 'T1', 'GRID_CELL_SIZE_REFLECTIVE': 30, 'CLOUD_COVER_LAND': 19.77, 'GEOMETRIC_RMSE_MODEL': 8.852, 'COLLECTION_NUMBER': 2, 'IMAGE_QUALITY_OLI': 9, 'LANDSAT_SCENE_ID': 'LC81950282017007LGN01', 'WRS_PATH': 195, 'PANCHROMATIC_SAMPLES': 15821, 'PANCHROMATIC_LINES': 16041, 'GEOMETRIC_RMSE_MODEL_Y': 7.002, 'REFLECTIVE_LINES': 8021, 'GEOMETRIC_RMSE_MODEL_X': 5.415, 'system:asset_size': 1266467502, 'system:index': 'LC08_195028_20170107', 'DATA_SOURCE_ELEVATION': 'GLS2000', 'REFLECTANCE_ADD_BAND_1': -0.1, 'REFLECTANCE_ADD_BAND_2': -0.1, 'DATUM': 'WGS84', 'REFLECTANCE_ADD_BAND_3': -0.1, 'REFLECTANCE_ADD_BAND_4': -0.1, 'REFLECTANCE_ADD_BAND_5': -0.1, 'REFLECTANCE_ADD_BAND_6': -0.1, 'REFLECTANCE_ADD_BAND_7': -0.1, 'REFLECTANCE_ADD_BAND_8': -0.1, 'GROUND_CONTROL_POINTS_VERSION': 5, 'UTM_ZONE': 32, 'system:time_end': 1483784225983, 'LANDSAT_PRODUCT_ID': 'LC08_L1TP_195028_20170107_20200905_02_T1', 'REFLECTANCE_ADD_BAND_9': -0.1, 'GRID_CELL_SIZE_PANCHROMATIC': 15, 'RADIANCE_ADD_BAND_4': -51.66195, 'REFLECTANCE_MULT_BAND_7': 2e-05, 'system:time_start': 1483784225983, 'RADIANCE_ADD_BAND_5': -31.61453, 'REFLECTANCE_MULT_BAND_6': 2e-05, 'RADIANCE_ADD_BAND_6': -7.86225, 'REFLECTANCE_MULT_BAND_9': 2e-05, 'PROCESSING_SOFTWARE_VERSION': 'LPGS_15.3.1c', 'RADIANCE_ADD_BAND_7': -2.65, 'REFLECTANCE_MULT_BAND_8': 2e-05, 'RADIANCE_ADD_BAND_1': -64.92541, 'RADIANCE_ADD_BAND_2': -66.48441, 'RADIANCE_ADD_BAND_3': -61.26482, 'REFLECTANCE_MULT_BAND_1': 2e-05, 'RADIANCE_ADD_BAND_8': -58.46711, 'REFLECTANCE_MULT_BAND_3': 2e-05, 'RADIANCE_ADD_BAND_9': -12.35568, 'REFLECTANCE_MULT_BAND_2': 2e-05, 'REFLECTANCE_MULT_BAND_5': 2e-05, 'REFLECTANCE_MULT_BAND_4': 2e-05, 'THERMAL_LINES': 8021, 'TIRS_SSM_POSITION_STATUS': 'ESTIMATED', 'GRID_CELL_SIZE_THERMAL': 30, 'NADIR_OFFNADIR': 'NADIR', 'RADIANCE_ADD_BAND_11': 0.1, 'REQUEST_ID': 'L2', 'EARTH_SUN_DISTANCE': 0.9833295, 'TIRS_SSM_MODEL': 'FINAL', 'SCENE_CENTER_TIME': '10:17:05.9838840Z', 'SUN_ELEVATION': 19.30756963, 'RADIANCE_ADD_BAND_10': 0.1, 'ROLL_ANGLE': -0.001, 'DATE_PRODUCT_GENERATED': 1599309268000, 'K1_CONSTANT_BAND_10': 774.8853, 'SATURATION_BAND_1': 'N', 'SATURATION_BAND_2': 'Y', 'SATURATION_BAND_3': 'Y', 'SATURATION_BAND_4': 'Y', 'SATURATION_BAND_5': 'Y', 'MAP_PROJECTION': 'UTM', 'SATURATION_BAND_6': 'Y', 'SENSOR_ID': 'OLI_TIRS', 'SATURATION_BAND_7': 'Y', 'K1_CONSTANT_BAND_11': 480.8883, 'SATURATION_BAND_8': 'N', 'SATURATION_BAND_9': 'N', 'TARGET_WRS_PATH': 195, 'PROCESSING_LEVEL': 'L1TP', 'RADIANCE_MULT_BAND_11': 0.0003342, 'RADIANCE_MULT_BAND_10': 0.0003342, 'GROUND_CONTROL_POINTS_MODEL': 427, 'SPACECRAFT_ID': 'LANDSAT_8', 'THERMAL_SAMPLES': 7911, 'GROUND_CONTROL_POINTS_VERIFY': 96}}\n"
          ]
        }
      ]
    },
    {
      "cell_type": "code",
      "source": [
        "import hello\n"
      ],
      "metadata": {
        "id": "MShzI_d0O6-Z"
      },
      "execution_count": null,
      "outputs": []
    }
  ]
}